{
  "nbformat": 4,
  "nbformat_minor": 0,
  "metadata": {
    "kernelspec": {
      "display_name": "Python 3",
      "language": "python",
      "name": "python3"
    },
    "language_info": {
      "codemirror_mode": {
        "name": "ipython",
        "version": 3
      },
      "file_extension": ".py",
      "mimetype": "text/x-python",
      "name": "python",
      "nbconvert_exporter": "python",
      "pygments_lexer": "ipython3",
      "version": "3.6.6"
    },
    "colab": {
      "name": "4.1 practice_loop.ipynb",
      "provenance": [],
      "collapsed_sections": [],
      "include_colab_link": true
    }
  },
  "cells": [
    {
      "cell_type": "markdown",
      "metadata": {
        "id": "view-in-github",
        "colab_type": "text"
      },
      "source": [
        "<a href=\"https://colab.research.google.com/github/LeeLee-ai/Lee/blob/main/4_1_practice_loop.ipynb\" target=\"_parent\"><img src=\"https://colab.research.google.com/assets/colab-badge.svg\" alt=\"Open In Colab\"/></a>"
      ]
    },
    {
      "cell_type": "markdown",
      "metadata": {
        "id": "B2TGXp-6oQ-6"
      },
      "source": [
        "# 문제 1.(for)\n",
        "## for 문을 이용하여 1부터 입력받은 정수까지의 합을 구하여 출력하는 프로그램을 작성하시오.\n",
        "- 100 이하의 양의 정수만 입력된다. \n",
        "- 입력 예: 10\n",
        "- 출력 예: 55"
      ]
    },
    {
      "cell_type": "code",
      "metadata": {
        "colab": {
          "base_uri": "https://localhost:8080/"
        },
        "id": "z0woiGFBoQ_E",
        "outputId": "c60eccd1-49d1-4dae-87ce-43cfa4ed0bac"
      },
      "source": [
        "number = 0\n",
        "number2 = int(input('정수를 입력하시오:'))\n",
        "if number2>=0 and number2<=100 :\n",
        "  for num in range(0,number2+1):\n",
        "    number = number + num\n",
        "  print(number)"
      ],
      "execution_count": null,
      "outputs": [
        {
          "output_type": "stream",
          "text": [
            "정수를 입력하시오:10\n",
            "55\n"
          ],
          "name": "stdout"
        }
      ]
    },
    {
      "cell_type": "markdown",
      "metadata": {
        "id": "7poF1ZCboQ_F"
      },
      "source": [
        "# 문제 2.\n",
        "## 정수를 계속 입력받다가 100 이상의 수가 입력이 되면 마지막 입력된 수를 포함하여 합계와 평균을 출력하는 프로그램을 작성하시오.\n",
        "\n",
        "- 평균은 반올림하여 소수 첫째자리까지 출력한다."
      ]
    },
    {
      "cell_type": "code",
      "metadata": {
        "colab": {
          "base_uri": "https://localhost:8080/"
        },
        "id": "pojKbnTMoQ_F",
        "outputId": "9de0dfd4-dbdf-4b6d-e085-ed08a118b4b2"
      },
      "source": [
        "number = int(input('정수를 입력하십시오:'))\n",
        "number2 = 0\n",
        "count = 0\n",
        "while number<=101:\n",
        "  number2 = number2 + number\n",
        "  number = number+1\n",
        "  count = count+1\n",
        "print(number2)\n",
        "average = number2/count\n",
        "print(round(average,1))\n",
        "\n",
        "      "
      ],
      "execution_count": null,
      "outputs": [
        {
          "output_type": "stream",
          "text": [
            "정수를 입력하십시오:12\n",
            "5085\n",
            "56.5\n"
          ],
          "name": "stdout"
        }
      ]
    },
    {
      "cell_type": "markdown",
      "metadata": {
        "id": "PNxlJ6g3oQ_G"
      },
      "source": [
        "# 문제 3.\n",
        "## 정수를 입력받아서 3의 배수가 아닌 경우에는 아무 작업도 하지 않고, 3의 배수인 경우에는 3으로 나눈몫을 출력하는 작업을 반복하다가 -1이 입력되면 종료하는 프로그램을 작성하시오.\n",
        "예시:\n",
        "- 5\n",
        "- 12 \n",
        "- <h2>4</h2>\n",
        "- 21\n",
        "- <h2>7</h2>\n",
        "- 100\n",
        "- -1"
      ]
    },
    {
      "cell_type": "code",
      "metadata": {
        "colab": {
          "base_uri": "https://localhost:8080/"
        },
        "id": "YAFIdddOoQ_G",
        "outputId": "901839fb-ad56-4002-ea11-933a6ef42936"
      },
      "source": [
        "prime = int(input('정수를 입력하시오:'))\n",
        "while prime%3==0:\n",
        "  print(prime//3)\n",
        "  prime = int(input('정수를 하나 더 입력하십시오:'))"
      ],
      "execution_count": null,
      "outputs": [
        {
          "output_type": "stream",
          "text": [
            "정수를 입력하시오:12\n",
            "4\n",
            "정수를 하나 더 입력하십시오:21\n",
            "7\n",
            "정수를 하나 더 입력하십시오:100\n"
          ],
          "name": "stdout"
        }
      ]
    },
    {
      "cell_type": "markdown",
      "metadata": {
        "id": "Uub2DvcSoQ_G"
      },
      "source": [
        "# 보너스(for)\n",
        "## 아래와 같은 모양으로 출력하는 프로그램을 작성하시오.\n",
        " - 사용자에게 숫자를 입력받아 입력 받은 높이 만큼의 삼각형을 출력하시오.\n",
        " - 입력 예: 5"
      ]
    },
    {
      "cell_type": "code",
      "metadata": {
        "id": "iBIN9__poQ_G"
      },
      "source": [
        "    *\n",
        "   **\n",
        "  ***\n",
        " ****\n",
        "*****"
      ],
      "execution_count": null,
      "outputs": []
    },
    {
      "cell_type": "code",
      "metadata": {
        "colab": {
          "base_uri": "https://localhost:8080/"
        },
        "id": "HY5cmgl7oQ_H",
        "outputId": "e8e5c89b-07f8-4ec6-ba97-454d64258c6a"
      },
      "source": [
        "triangle = int(input('삼각형 밑변 길이를 입력하시오:'))\n",
        "num = 1\n",
        "nu = triangle-1\n",
        "while num<=triangle and nu>=0:\n",
        "  print(' '*nu, '*'*num)\n",
        "  num = num + 1\n",
        "  nu = nu-1"
      ],
      "execution_count": null,
      "outputs": [
        {
          "output_type": "stream",
          "text": [
            "삼각형 밑변 길이를 입력하시오:5\n",
            "     *\n",
            "    **\n",
            "   ***\n",
            "  ****\n",
            " *****\n"
          ],
          "name": "stdout"
        }
      ]
    },
    {
      "cell_type": "code",
      "metadata": {
        "id": "eUCneHXloQ_H"
      },
      "source": [
        ""
      ],
      "execution_count": null,
      "outputs": []
    },
    {
      "cell_type": "markdown",
      "metadata": {
        "id": "m-3c_g-coQ_H"
      },
      "source": [
        "# 문제 4. \n",
        "## 아래와 같이 나라 이름을 출력하고 숫자를 입력받아 해당하는 나라의 수도를 출력하는 작업을 반복하다가 해당하는 번호 이외의 숫자가 입력되면 \"none\"라고 출력한 후 종료하는 프로그램을 작성하시오.\n",
        "\n",
        "* 각 나라의 수도 : \n",
        "- 대한민국 = 서울(Seoul)\n",
        "- 미국 = 워싱턴(Washington)\n",
        "- 일본 = 동경(Tokyo)\n",
        "- 중국 = 북경(Beijing)\n",
        "\n",
        "예시\n",
        "입력 예:\n",
        "1. Korea\n",
        "2. USA\n",
        "3. Japan\n",
        "4. China\n",
        "number? 1\n",
        "\n",
        "출력 예:\n",
        "Seoul\n",
        "\n",
        "1. Korea\n",
        "2. USA\n",
        "3. Japan\n",
        "4. China\n",
        "number? 5\n",
        "\n",
        "none"
      ]
    },
    {
      "cell_type": "code",
      "metadata": {
        "colab": {
          "base_uri": "https://localhost:8080/"
        },
        "id": "5uDI6jjaoQ_I",
        "outputId": "18c40f27-0532-4d62-aa89-ad2102ed3331"
      },
      "source": [
        "print('1.korea')\n",
        "print('2.U.S.A')\n",
        "print('3.Japan')\n",
        "print('4.China')\n",
        "number = int(input('숫자를 입력하시오:'))\n",
        "while number<5:\n",
        "  if number==1:\n",
        "    print('Seoul')\n",
        "  elif number==2:\n",
        "    print('Washington')\n",
        "  elif number==3:\n",
        "    print('Tokyo')\n",
        "  elif number==4:\n",
        "    print('China')\n",
        "  number = int(input('숫자를 입력하시오:'))\n",
        "\n"
      ],
      "execution_count": null,
      "outputs": [
        {
          "output_type": "stream",
          "text": [
            "1.korea\n",
            "2.U.S.A\n",
            "3.Japan\n",
            "4.China\n",
            "숫자를 입력하시오:1\n",
            "Seoul\n",
            "숫자를 입력하시오:3\n",
            "Tokyo\n",
            "숫자를 입력하시오:2\n",
            "Washington\n",
            "숫자를 입력하시오:4\n",
            "China\n",
            "숫자를 입력하시오:5\n"
          ],
          "name": "stdout"
        }
      ]
    },
    {
      "cell_type": "code",
      "metadata": {
        "id": "kXBn5Ip4oQ_I"
      },
      "source": [
        ""
      ],
      "execution_count": null,
      "outputs": []
    },
    {
      "cell_type": "markdown",
      "metadata": {
        "id": "LFckhKe1oQ_J"
      },
      "source": [
        "# 문제 5.\n",
        "## 0 이상의 정수들이 공백으로 구분되어 반복적으로 주어진다. 0이 입력되면 반복문을 멈추고 그 전까지 입력받은 수들에 대하여 홀수의 개수와 짝수의 개수를 출력하는 프로그램을 작성하시오.\n",
        "- 입력 예: 9 7 10 5 33 65 0\n",
        "- 출력 예: \n",
        " odd : 5\n",
        " even : 1"
      ]
    },
    {
      "cell_type": "code",
      "metadata": {
        "colab": {
          "base_uri": "https://localhost:8080/"
        },
        "id": "OPCG_Zf3oQ_J",
        "outputId": "831b1f6e-79dd-442e-f605-4dd9fef843f8"
      },
      "source": [
        "lists = 1\n",
        "counts = 0\n",
        "counts2 = 0\n",
        "while lists>=1:\n",
        "  lists = int(input('수를 입력하십시오'))\n",
        "  if lists%2==0 and lists!=0:\n",
        "    counts = counts+1\n",
        "  elif lists%2==1 and lists!=0:\n",
        "    counts2=counts2+1\n",
        "print('odd:',counts2, 'even', counts)\n",
        "\n"
      ],
      "execution_count": null,
      "outputs": [
        {
          "output_type": "stream",
          "text": [
            "수를 입력하십시오9\n",
            "수를 입력하십시오7\n",
            "수를 입력하십시오10\n",
            "수를 입력하십시오5\n",
            "수를 입력하십시오33\n",
            "수를 입력하십시오65\n",
            "수를 입력하십시오0\n",
            "odd: 5 even 1\n"
          ],
          "name": "stdout"
        }
      ]
    },
    {
      "cell_type": "code",
      "metadata": {
        "id": "XG5wLpCjoQ_J"
      },
      "source": [
        ""
      ],
      "execution_count": null,
      "outputs": []
    },
    {
      "cell_type": "markdown",
      "metadata": {
        "id": "A_PW_3iDoQ_J"
      },
      "source": [
        "# 문제 6.\n",
        "## 삼각형의 밑변의 길이와 높이를 입력받아 넓이를 출력하고, \"Continue? \"에서 하나의 문자를 입력받아 그 문자가 'Y' 나 'y' 이면 작업을 반복하고 다른 문자이면 종료하는 프로그램을 작성하시오.\n",
        "\n",
        "- 넓이는 반올림하여 소수 첫째자리까지 출력한다.\n",
        "예시\n",
        "###### Base = 11\n",
        "###### Height = 5\n",
        "###### Triangle width = 27.5\n",
        "###### Continue? Y\n",
        "###### Base = 10\n",
        "###### Height = 10\n",
        "###### Triangle width = 50.0\n",
        "###### Continue? N"
      ]
    },
    {
      "cell_type": "code",
      "metadata": {
        "id": "VkcZK-4eoQ_K",
        "colab": {
          "base_uri": "https://localhost:8080/"
        },
        "outputId": "0608f5a3-9b55-4715-cbd5-2c94dc14e747"
      },
      "source": [
        "base= float(input('삼각형의 밑변의 길이를 입력하시오:'))\n",
        "height = float(input('삼각형의 높이의 길이를 입력하시오:'))\n",
        "triangle_width = base*height/2\n",
        "print(triangle_width)\n",
        "Continue = input('continue?')\n",
        "while Continue=='Y' or Continue=='y':\n",
        "  base=float(input('삼각형의 밑변의 길이를 입력하시오'))\n",
        "  height = float(input('삼각형의 높이의 길이를 입력하시오:'))\n",
        "  triangle_width = base*height/2\n",
        "  print(triangle_width)\n",
        "  Continue = input('continue?')\n",
        "\n"
      ],
      "execution_count": null,
      "outputs": [
        {
          "output_type": "stream",
          "text": [
            "삼각형의 밑변의 길이를 입력하시오:11\n",
            "삼각형의 높이의 길이를 입력하시오:5\n",
            "27.5\n",
            "continue?y\n",
            "삼각형의 밑변의 길이를 입력하시오10\n",
            "삼각형의 높이의 길이를 입력하시오:10\n",
            "50.0\n",
            "continue?n\n"
          ],
          "name": "stdout"
        }
      ]
    },
    {
      "cell_type": "code",
      "metadata": {
        "id": "PHlYZzfNoQ_P"
      },
      "source": [
        ""
      ],
      "execution_count": null,
      "outputs": []
    },
    {
      "cell_type": "markdown",
      "metadata": {
        "id": "d7UhN7gpoQ_P"
      },
      "source": [
        "# 문제 7.(for)\n",
        "## 100 이하의 두 개의 정수를 입력받아 작은 수부터 큰 수까지 차례대로 출력하는 프로그램을 작성하시오.\n",
        "- 입력 예: 5 10\n",
        "- 출력 예: 5 6 7 8 9 10"
      ]
    },
    {
      "cell_type": "code",
      "metadata": {
        "id": "tJaM6ACGoQ_P",
        "colab": {
          "base_uri": "https://localhost:8080/"
        },
        "outputId": "8f6e7b7c-4a12-4e3d-f6df-f9c5f7193137"
      },
      "source": [
        "number = input('정수들을 입력하시오:')\n",
        "number2 = number.split(',')\n",
        "number3 = int(number2[0])\n",
        "number4 = int(number2[1])\n",
        "for num in range(number3,number4+1):\n",
        "  print(num,end=' ')\n",
        "\n"
      ],
      "execution_count": null,
      "outputs": [
        {
          "output_type": "stream",
          "text": [
            "정수들을 입력하시오:5,10\n",
            "5 6 7 8 9 10 "
          ],
          "name": "stdout"
        }
      ]
    },
    {
      "cell_type": "markdown",
      "metadata": {
        "id": "yfpihChzoQ_P"
      },
      "source": [
        "# 문제 8.(for)\n",
        "## 두 개의 정수를 입력받아 두 정수 사이(두 정수를 포함)에 3의 배수이거나 5의 배수인 수들의 합과 평균을 출력하는 프로그램을 작성하시오.\n",
        "- 평균은 반올림하여 소수 첫째자리까지 출력한다.\n",
        "- 입력 예: 10 15\n",
        "- 출력 예: \n",
        "sum : 37\n",
        "avg : 12.3"
      ]
    },
    {
      "cell_type": "code",
      "metadata": {
        "id": "-29fKfpMoQ_P",
        "colab": {
          "base_uri": "https://localhost:8080/"
        },
        "outputId": "f34bc33a-844e-45a0-cb77-19cfd1dd082a"
      },
      "source": [
        "prime = input('정수 두 개를 입력하십시오:')\n",
        "prime2 =prime.split(',')\n",
        "prime3 = int(prime2[0])\n",
        "prime4 = int(prime2[1])\n",
        "count = 0\n",
        "num2 = 0\n",
        "for num in range(prime3,prime4+1):\n",
        "  if num%3==0 or num%5==0:\n",
        "    num2 = num2+num\n",
        "    count = count + 1\n",
        "average = round(num2/count,1)\n",
        "print('sum :',num2,'avg :',average)\n"
      ],
      "execution_count": null,
      "outputs": [
        {
          "output_type": "stream",
          "text": [
            "정수 두 개를 입력하십시오:10,15\n",
            "sum : 37 avg : 12.3\n"
          ],
          "name": "stdout"
        }
      ]
    },
    {
      "cell_type": "markdown",
      "metadata": {
        "id": "gSMrF30EoQ_R"
      },
      "source": [
        "# 문제 9. (for)\n",
        "## 2부터 9까지의 수 중 2개를 입력받아 입력받은 수 사이의 구구단을 출력하는 프로그램을 작성하시오.\n",
        "- 단 반드시 먼저 입력된 수의 구구단부터 아래의 형식에 맞게 출력하여야 한다.\n",
        "- 구구단 사이의 공백은 3칸이다.\n",
        "- 입력 예: 5 3\n",
        "- 출력 예:\n",
        "5 * 1 =  5   4 * 1 =  4   3 * 1 =  3\n",
        "5 * 2 = 10   4 * 2 =  8   3 * 2 =  6\n",
        "5 * 3 = 15   4 * 3 = 12   3 * 3 =  9\n",
        "5 * 4 = 20   4 * 4 = 16   3 * 4 = 12\n",
        "5 * 5 = 25   4 * 5 = 20   3 * 5 = 15\n",
        "5 * 6 = 30   4 * 6 = 24   3 * 6 = 18\n",
        "5 * 7 = 35   4 * 7 = 28   3 * 7 = 21\n",
        "5 * 8 = 40   4 * 8 = 32   3 * 8 = 24\n",
        "5 * 9 = 45   4 * 9 = 36   3 * 9 = 27"
      ]
    },
    {
      "cell_type": "code",
      "metadata": {
        "id": "YXX4ar7KoQ_R",
        "colab": {
          "base_uri": "https://localhost:8080/"
        },
        "outputId": "1bda9a13-5e1b-40d5-cc7e-0762553b67da"
      },
      "source": [
        "numbers = input('구구단 단수 두개를 입력하시오:')\n",
        "numbers2 = numbers.split(',')\n",
        "numbers3 = int(numbers2[0])\n",
        "numbers4 = int(numbers2[1])\n",
        "i = 1\n",
        "x = numbers3\n",
        "while x>numbers4 and i<=9 :\n",
        "  results = x * i\n",
        "  print(x,'*',i,'=',results)\n",
        "  x = x-1\n",
        "  if x==numbers4 :\n",
        "    results = x * i\n",
        "    print(x,'*',i,'=',results)\n",
        "    x = numbers4 + (numbers3-numbers4)\n",
        "    i = i + 1\n",
        "    if i==10:\n",
        "      break\n",
        "    results = x * i\n",
        "    print(x,'*',i,'=',results)\n",
        "    x = x-1\n",
        "\n",
        "  \n",
        "  \n",
        "\n",
        "  \n",
        "\n",
        "  "
      ],
      "execution_count": null,
      "outputs": [
        {
          "output_type": "stream",
          "text": [
            "구구단 단수 두개를 입력하시오:5,3\n",
            "5 * 1 = 5\n",
            "4 * 1 = 4\n",
            "3 * 1 = 3\n",
            "5 * 2 = 10\n",
            "4 * 2 = 8\n",
            "3 * 2 = 6\n",
            "5 * 3 = 15\n",
            "4 * 3 = 12\n",
            "3 * 3 = 9\n",
            "5 * 4 = 20\n",
            "4 * 4 = 16\n",
            "3 * 4 = 12\n",
            "5 * 5 = 25\n",
            "4 * 5 = 20\n",
            "3 * 5 = 15\n",
            "5 * 6 = 30\n",
            "4 * 6 = 24\n",
            "3 * 6 = 18\n",
            "5 * 7 = 35\n",
            "4 * 7 = 28\n",
            "3 * 7 = 21\n",
            "5 * 8 = 40\n",
            "4 * 8 = 32\n",
            "3 * 8 = 24\n",
            "5 * 9 = 45\n",
            "4 * 9 = 36\n",
            "3 * 9 = 27\n"
          ],
          "name": "stdout"
        }
      ]
    },
    {
      "cell_type": "code",
      "metadata": {
        "id": "pfUjsDQ5oQ_R"
      },
      "source": [
        ""
      ],
      "execution_count": null,
      "outputs": []
    },
    {
      "cell_type": "markdown",
      "metadata": {
        "id": "lrJnjFj9oQ_R"
      },
      "source": [
        "# 보너스2 (for)\n",
        "## 아래와 같은 모양으로 출력하는 프로그램을 작성하시오.\n",
        " - 사용자에게 숫자를 입력받아 입력 받은 높이 만큼의 삼각형을 출력하시오.\n",
        " - 입력 예: 5"
      ]
    },
    {
      "cell_type": "code",
      "metadata": {
        "id": "ltPQyYeroQ_S"
      },
      "source": [
        "*****\n",
        " ****\n",
        "  ***\n",
        "   **\n",
        "    *"
      ],
      "execution_count": null,
      "outputs": []
    },
    {
      "cell_type": "code",
      "metadata": {
        "id": "2IDQ2IaKoQ_S",
        "colab": {
          "base_uri": "https://localhost:8080/"
        },
        "outputId": "9edf2ab8-84ea-40ee-bbff-e3474e4a06d2"
      },
      "source": [
        "triangle = int(input('역삼각형 윗변 길이를 입력하시오:'))\n",
        "num = 0\n",
        "while triangle>0 and num>=0 :\n",
        "  print(' '*num, '*'*triangle)\n",
        "  triangle = triangle-1\n",
        "  num = num+1\n"
      ],
      "execution_count": null,
      "outputs": [
        {
          "output_type": "stream",
          "text": [
            "역삼각형 윗변 길이를 입력하시오:5\n",
            " *****\n",
            "  ****\n",
            "   ***\n",
            "    **\n",
            "     *\n"
          ],
          "name": "stdout"
        }
      ]
    },
    {
      "cell_type": "code",
      "metadata": {
        "id": "Xhnv6n4IoQ_S"
      },
      "source": [
        ""
      ],
      "execution_count": null,
      "outputs": []
    },
    {
      "cell_type": "code",
      "metadata": {
        "id": "_hviaTOeoQ_S"
      },
      "source": [
        ""
      ],
      "execution_count": null,
      "outputs": []
    }
  ]
}