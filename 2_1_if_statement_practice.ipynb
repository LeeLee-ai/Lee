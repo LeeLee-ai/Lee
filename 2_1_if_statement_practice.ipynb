{
  "nbformat": 4,
  "nbformat_minor": 0,
  "metadata": {
    "kernelspec": {
      "display_name": "Python 3",
      "language": "python",
      "name": "python3"
    },
    "language_info": {
      "codemirror_mode": {
        "name": "ipython",
        "version": 3
      },
      "file_extension": ".py",
      "mimetype": "text/x-python",
      "name": "python",
      "nbconvert_exporter": "python",
      "pygments_lexer": "ipython3",
      "version": "3.6.6"
    },
    "colab": {
      "name": "2.1 if_statement_practice.ipynb",
      "provenance": [],
      "collapsed_sections": [],
      "include_colab_link": true
    }
  },
  "cells": [
    {
      "cell_type": "markdown",
      "metadata": {
        "id": "view-in-github",
        "colab_type": "text"
      },
      "source": [
        "<a href=\"https://colab.research.google.com/github/LeeLee-ai/Lee/blob/main/2_1_if_statement_practice.ipynb\" target=\"_parent\"><img src=\"https://colab.research.google.com/assets/colab-badge.svg\" alt=\"Open In Colab\"/></a>"
      ]
    },
    {
      "cell_type": "markdown",
      "metadata": {
        "id": "JsWrZowUSwi1"
      },
      "source": [
        "# 문제 1.\n",
        "- 정수를 입력받아 첫 줄에 입력 받은 숫자를 출력하고 둘째 줄에 음수이면 “minus” 라고 출력하는 프로그램을 작성하시오.\n",
        "- 입력 예1: -5\n",
        "- 출력 예1: \n",
        "    * -5\n",
        "    * minus\n",
        "\n",
        "- 입력 예2: 5\n",
        "- 출력 예2: \n",
        "    * 5"
      ]
    },
    {
      "cell_type": "code",
      "metadata": {
        "id": "3LcZwmyPSwi8",
        "colab": {
          "base_uri": "https://localhost:8080/"
        },
        "outputId": "7441edcc-3663-4758-dabb-854a4016c432"
      },
      "source": [
        "prime = int(input('정수를 입력하시오:'))\n",
        "print(prime)\n",
        "if prime<0:\n",
        "  print('minus')"
      ],
      "execution_count": null,
      "outputs": [
        {
          "output_type": "stream",
          "text": [
            "정수를 입력하시오:-5\n",
            "-5\n",
            "minus\n"
          ],
          "name": "stdout"
        }
      ]
    },
    {
      "cell_type": "code",
      "metadata": {
        "id": "jl8fQD0zSwi9"
      },
      "source": [
        ""
      ],
      "execution_count": null,
      "outputs": []
    },
    {
      "cell_type": "markdown",
      "metadata": {
        "id": "EV6FBH8PSwi9"
      },
      "source": [
        "# 문제 2.\n",
        "- “몸무게+100-키”를 비만수치 공식이라고 하자.\n",
        "- 키와 몸무게를 자연수로 입력받아 첫 번째 줄에 비만수치를 출력하고, 비만수치가 0보다 크면 다음줄에 비만(\"Obesity\")이라는 메시지를 출력하는 프로그램을 작성하시오.\n",
        "- 입력 예: 155 60\n",
        "- 출력 예: \n",
        "    * 5\n",
        "    * Obesity"
      ]
    },
    {
      "cell_type": "code",
      "metadata": {
        "id": "kF7icXQTSwi-",
        "colab": {
          "base_uri": "https://localhost:8080/"
        },
        "outputId": "e89cdad7-6402-4b03-8bc3-39904b070d2a"
      },
      "source": [
        "height = int(input('키를 입력하시오:'))\n",
        "weight = int(input('몸무게를 입력하시오'))\n",
        "obesity_scale = weight+100-height\n",
        "if obesity_scale>0:\n",
        "  print(obesity_scale)\n",
        "  print('obesity')\n",
        "else:\n",
        "  print('normal')"
      ],
      "execution_count": null,
      "outputs": [
        {
          "output_type": "stream",
          "text": [
            "키를 입력하시오:155\n",
            "몸무게를 입력하시오60\n",
            "5\n",
            "obesity\n"
          ],
          "name": "stdout"
        }
      ]
    },
    {
      "cell_type": "code",
      "metadata": {
        "id": "DCGFoRYpSwi-"
      },
      "source": [
        ""
      ],
      "execution_count": null,
      "outputs": []
    },
    {
      "cell_type": "markdown",
      "metadata": {
        "id": "lb0F8jfCSwi-"
      },
      "source": [
        "# 문제 3.\n",
        "- 나이를 입력받아 20살 이상이면 \"adult\"라고 출력하고 그렇지 않으면 몇 년후에 성인이 되는지를 \"○ years later\"라는 메시지를 출력하는 프로그램을 작성하시오.\n",
        "- 입력 예: 18\n",
        "- 출력 예: 2 years later"
      ]
    },
    {
      "cell_type": "code",
      "metadata": {
        "id": "ah7jg7j6Swi-",
        "colab": {
          "base_uri": "https://localhost:8080/"
        },
        "outputId": "b4e04064-3c27-4f56-9ed7-46a0715e1f81"
      },
      "source": [
        "age = int(input('나이를 입력하시오:'))\n",
        "if age>=20 :\n",
        "  print('adult')\n",
        "else:\n",
        "  print(20-age,'years later')"
      ],
      "execution_count": null,
      "outputs": [
        {
          "output_type": "stream",
          "text": [
            "나이를 입력하시오:18\n",
            "2 years later\n"
          ],
          "name": "stdout"
        }
      ]
    },
    {
      "cell_type": "code",
      "metadata": {
        "id": "uu-vMNd9Swi_"
      },
      "source": [
        ""
      ],
      "execution_count": null,
      "outputs": []
    },
    {
      "cell_type": "markdown",
      "metadata": {
        "id": "MOe6Ky19Swi_"
      },
      "source": [
        "# 문제 4.\n",
        "- 복싱체급은 몸무게가 50.80kg 이하를 Flyweight 61.23kg 이하를 Lightweight, 72.57kg 이하를 Middleweight, 88.45kg 이하를 Cruiserweight, 88.45kg 초과를 Heavyweight라고 하자.\n",
        "\n",
        "- 몸무게를 입력받아 체급을 출력하는 프로그램을 작성하시오.\n",
        "- 입력 예: 87.3\n",
        "- 출력 예: Cruiserweight"
      ]
    },
    {
      "cell_type": "code",
      "metadata": {
        "id": "OMriWkSfSwi_",
        "colab": {
          "base_uri": "https://localhost:8080/"
        },
        "outputId": "b2195a3d-6e8a-4bc7-b1f1-2f0d6841d886"
      },
      "source": [
        "weight = float(input('몸무게를 입력하시오:'))\n",
        "if weight<= 50.80:\n",
        "  print('Flyweight')\n",
        "elif weight<=61.23:\n",
        "  print('Lightweight')\n",
        "elif weight<=72.57:\n",
        "  print('Middleweight')\n",
        "elif weight<=88.45:\n",
        "  print('Cruiserweight')\n",
        "elif weight>88.45:\n",
        "  print('Heavyweight')"
      ],
      "execution_count": null,
      "outputs": [
        {
          "output_type": "stream",
          "text": [
            "몸무게를 입력하시오:87.3\n",
            "Cruiserweight\n"
          ],
          "name": "stdout"
        }
      ]
    },
    {
      "cell_type": "code",
      "metadata": {
        "id": "f-wEOxhESwi_"
      },
      "source": [
        ""
      ],
      "execution_count": null,
      "outputs": []
    },
    {
      "cell_type": "markdown",
      "metadata": {
        "id": "R9ZgQpiJSwi_"
      },
      "source": [
        "# 문제 5.\n",
        "- 두 개의 실수를 입력받아 모두 4.0 이상이면 \"A\", 모두 3.0 이상이면 \"B\", 아니면 \"C\" 라고 출력하는 프로그램을 작성하시오.\n",
        "- 입력 예1: 4.3 3.5\n",
        "- 출력 예1: B\n",
        "\n",
        "- 입력 예2: 4.0 2.9\n",
        "- 출력 예2: C\n"
      ]
    },
    {
      "cell_type": "code",
      "metadata": {
        "id": "un0pRFuPSwjA",
        "colab": {
          "base_uri": "https://localhost:8080/"
        },
        "outputId": "a1f24e20-b026-4001-d63d-9e3edd48e4f0"
      },
      "source": [
        "credit = float(input('학점을 입력하십시오:'))\n",
        "credit2 = float(input('학점을 입력하십시오:'))\n",
        "if credit>=4.0 and credit2>=4.0:\n",
        "  print('A')\n",
        "elif credit>=3.0 and credit2>=3.0:\n",
        "  print('B')\n",
        "else :\n",
        "  print('C')"
      ],
      "execution_count": null,
      "outputs": [
        {
          "output_type": "stream",
          "text": [
            "학점을 입력하십시오:4.0\n",
            "학점을 입력하십시오:2.9\n",
            "C\n"
          ],
          "name": "stdout"
        }
      ]
    },
    {
      "cell_type": "code",
      "metadata": {
        "id": "ihxyCNUbSwjA"
      },
      "source": [
        ""
      ],
      "execution_count": null,
      "outputs": []
    },
    {
      "cell_type": "markdown",
      "metadata": {
        "id": "-InNR_MtSwjA"
      },
      "source": [
        "# 문제 6.\n",
        "- 영문 대문자를 입력받아 \n",
        "- 'A'이면 “Excellent”, \n",
        "- 'B'이면 “Good”, \n",
        "- 'C'이면 “Usually”, \n",
        "- 'D'이면 “Effort”, \n",
        "- 'F'이면 “Failure”, \n",
        "- 그 외 문자이면 “error” 라고 출력하는 프로그램을 작성하시오.\n",
        "- 입력 예: B\n",
        "- 출력 예: Good"
      ]
    },
    {
      "cell_type": "code",
      "metadata": {
        "id": "7AV2UjqjSwjA",
        "colab": {
          "base_uri": "https://localhost:8080/"
        },
        "outputId": "e119b2ca-3e92-4202-ef9a-57b6af6af236"
      },
      "source": [
        "character = input('영어 대문자를 입력하십시오:')\n",
        "if character=='A':\n",
        "  print('Excellent')\n",
        "elif character=='B':\n",
        "  print('Good')\n",
        "elif character=='C':\n",
        "  print('Usually')\n",
        "elif character=='D':\n",
        "  print('Effort')\n",
        "elif character=='F':\n",
        "  print('Failure')\n",
        "else:\n",
        "  print('error')"
      ],
      "execution_count": null,
      "outputs": [
        {
          "output_type": "stream",
          "text": [
            "영어 대문자를 입력하십시오:B\n",
            "Good\n"
          ],
          "name": "stdout"
        }
      ]
    },
    {
      "cell_type": "code",
      "metadata": {
        "id": "diDCejnaSwjA"
      },
      "source": [
        ""
      ],
      "execution_count": null,
      "outputs": []
    },
    {
      "cell_type": "markdown",
      "metadata": {
        "id": "y1w-0wRdSwjA"
      },
      "source": [
        "# 문제 7.\n",
        "- 3개의 정수를 입력받아 조건문을 이용하여 입력받은 수들 중 최소값을 출력하는 프로그램을 작성하시오.\n",
        "- 입력 예: 18 -5 10\n",
        "- 출력 예: -5"
      ]
    },
    {
      "cell_type": "code",
      "metadata": {
        "id": "eOwzPo1XSwjA",
        "colab": {
          "base_uri": "https://localhost:8080/"
        },
        "outputId": "4ad22d50-88fc-498a-b744-8e90c152781a"
      },
      "source": [
        "number = int(input('정수를 입력하시오:'))\n",
        "number2 = int(input('정수를 입력하시오:'))\n",
        "number3 = int(input('정수를 입력하시오:'))\n",
        "if number<number2 and number<number3:\n",
        "  print(number1)\n",
        "elif number2<number and number2<number3:\n",
        "  print(number2)\n",
        "elif number3<number1 and number3<number2:\n",
        "  print(number3)"
      ],
      "execution_count": null,
      "outputs": [
        {
          "output_type": "stream",
          "text": [
            "정수를 입력하시오:18\n",
            "정수를 입력하시오:-5\n",
            "정수를 입력하시오:10\n",
            "-5\n"
          ],
          "name": "stdout"
        }
      ]
    },
    {
      "cell_type": "code",
      "metadata": {
        "id": "8p_HW1hgSwjB"
      },
      "source": [
        ""
      ],
      "execution_count": null,
      "outputs": []
    },
    {
      "cell_type": "markdown",
      "metadata": {
        "id": "mpaH2sgrSwjB"
      },
      "source": [
        "# 문제 8.\n",
        "- 년도를 입력받아 윤년(leap year)인지 평년(common year)인지 판단하는 프로그램을 작성하시오.\n",
        "- 400으로 나누어떨어지면 윤년이다. 또는 4로 나누어떨어지고 100으로 나누어떨어지지 않으면 윤년이다. 나머지는 모두 평년이다.\n",
        "- 입력 예: 2008\n",
        "- 출력 예: leap year"
      ]
    },
    {
      "cell_type": "code",
      "metadata": {
        "id": "P9_Td6CfSwjC",
        "colab": {
          "base_uri": "https://localhost:8080/"
        },
        "outputId": "3740b447-a481-4876-b048-ec8ad7a519c1"
      },
      "source": [
        "year = int(input('연도를 입력하시오:'))\n",
        "if (year%4==0 and year%100!=0) or year%400==0:\n",
        "    print('leap year')\n",
        "else :\n",
        "  print('common year')"
      ],
      "execution_count": null,
      "outputs": [
        {
          "output_type": "stream",
          "text": [
            "연도를 입력하시오:2000\n",
            "leap year\n"
          ],
          "name": "stdout"
        }
      ]
    },
    {
      "cell_type": "code",
      "metadata": {
        "id": "q6eTPqZmSwjC"
      },
      "source": [
        ""
      ],
      "execution_count": null,
      "outputs": []
    },
    {
      "cell_type": "markdown",
      "metadata": {
        "id": "U3XkVYRbSwjC"
      },
      "source": [
        "# 문제 9. \n",
        "- 1~12사이의 정수를 입력받아 평년의 경우 입력받은 월을 입력받아 평년의 경우 해당 월의 날수를 출력하는 프로그램을 작성하시오.\n",
        "- 평년의 경우 1월부터 12월까지 일수는 각각 31, 28, 31, 30, 31, 30, 31, 31, 30, 31, 30, 31일이다.\n",
        "- 입력 예: 2\n",
        "- 출력 예: 28"
      ]
    },
    {
      "cell_type": "code",
      "metadata": {
        "id": "mPbEuZlASwjC",
        "colab": {
          "base_uri": "https://localhost:8080/"
        },
        "outputId": "cc6e930e-b90a-4e57-cd5a-c14af3013b27"
      },
      "source": [
        "month = int(input('월을 입력하십시오:'))\n",
        "if (month%2==0 and month<7 and month!=2) or (month%2==1 and month>7):\n",
        "  print(30)\n",
        "elif (month%2==1 and month<8) or (month%2==0 and month>=8):\n",
        "  print(31)\n",
        "else:\n",
        "  print(28)"
      ],
      "execution_count": null,
      "outputs": [
        {
          "output_type": "stream",
          "text": [
            "월을 입력하십시오:2\n",
            "28\n"
          ],
          "name": "stdout"
        }
      ]
    },
    {
      "cell_type": "code",
      "metadata": {
        "id": "kkRuLE99SwjC"
      },
      "source": [
        ""
      ],
      "execution_count": null,
      "outputs": []
    },
    {
      "cell_type": "markdown",
      "metadata": {
        "id": "7nsuIsNGSwjD"
      },
      "source": [
        "# 문제 10.\n",
        "- 공백을 포함한 문자열을 입력받아 각 단어로 분리하여 문자열 배열에 저장한 후 입력순서의 반대 순서로 출력하는 프로그램을 작성하시오. 문자열의 길이는 100자 이하이다.\n",
        "- 입력 예: C++ Programing jjang!!\n",
        "- 출력 예:\n",
        "    * jjang!!\n",
        "    * Programing\n",
        "    * C++"
      ]
    },
    {
      "cell_type": "code",
      "metadata": {
        "id": "9ttTE8uASwjD",
        "colab": {
          "base_uri": "https://localhost:8080/"
        },
        "outputId": "7d0cc602-a8f0-4f30-8b76-b82cfc2ab764"
      },
      "source": [
        "words = input('문장을 입력하십시오:')\n",
        "words2 = words.split(' ')\n",
        "for voc in words2[::-1]:\n",
        "  print(voc)"
      ],
      "execution_count": null,
      "outputs": [
        {
          "output_type": "stream",
          "text": [
            "문장을 입력하십시오:C++ programing jjang!\n",
            "jjang!\n",
            "programing\n",
            "C++\n"
          ],
          "name": "stdout"
        }
      ]
    },
    {
      "cell_type": "code",
      "metadata": {
        "id": "iCCzssCkSwjD"
      },
      "source": [
        ""
      ],
      "execution_count": null,
      "outputs": []
    },
    {
      "cell_type": "code",
      "metadata": {
        "id": "Uy5H_GHMSwjF"
      },
      "source": [
        ""
      ],
      "execution_count": null,
      "outputs": []
    }
  ]
}