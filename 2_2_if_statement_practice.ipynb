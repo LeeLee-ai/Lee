{
  "nbformat": 4,
  "nbformat_minor": 0,
  "metadata": {
    "kernelspec": {
      "display_name": "Python 3",
      "language": "python",
      "name": "python3"
    },
    "language_info": {
      "codemirror_mode": {
        "name": "ipython",
        "version": 3
      },
      "file_extension": ".py",
      "mimetype": "text/x-python",
      "name": "python",
      "nbconvert_exporter": "python",
      "pygments_lexer": "ipython3",
      "version": "3.6.6"
    },
    "colab": {
      "name": "2.2 if_statement_practice.ipynb",
      "provenance": [],
      "collapsed_sections": [],
      "include_colab_link": true
    }
  },
  "cells": [
    {
      "cell_type": "markdown",
      "metadata": {
        "id": "view-in-github",
        "colab_type": "text"
      },
      "source": [
        "<a href=\"https://colab.research.google.com/github/LeeLee-ai/Lee/blob/main/2_2_if_statement_practice.ipynb\" target=\"_parent\"><img src=\"https://colab.research.google.com/assets/colab-badge.svg\" alt=\"Open In Colab\"/></a>"
      ]
    },
    {
      "cell_type": "markdown",
      "metadata": {
        "id": "s3-vztizfhB3"
      },
      "source": [
        "# 문제 1.\n",
        "- \"FizzBuzz\"문제 \n",
        " - 1에서 100까지의 숫자를 출력하되, \n",
        " - 만약 해당 숫자가 '3'으로 나누어지면 숫자 대신에 \"Fizz\"를 출력하고, \n",
        " - 만약 해당 숫자가 '5'로 나누어지면 숫자 대신에 \"Buzz\"를 출력하며, \n",
        " - 만약 해당 숫자가 '3'과 '5'로 모두 나누어지면 숫자 대신에 \"FizzBuzz\"를 출력\n",
        " - 입력 예1: 5\n",
        " - 출력 예1: \"Buzz\"\n",
        " - 입력 예2: 3\n",
        " - 출력 예2: \"Fizz\"\n",
        " - 입력 예3: 15\n",
        " - 출력 예3: \"FizzBuzz\" "
      ]
    },
    {
      "cell_type": "code",
      "metadata": {
        "colab": {
          "base_uri": "https://localhost:8080/"
        },
        "id": "tEKMNK4ofhCP",
        "outputId": "e0329d02-637d-4c82-aaa6-491263bc0a92"
      },
      "source": [
        "number = int(input('숫자를 입력하시오:'))\n",
        "if number%3==0 and number%5==0 :\n",
        "  print('\"FizzBuzz\"')\n",
        "elif number%5==0 :\n",
        "  print('\"Buzz\"')\n",
        "elif number%3==0 :\n",
        "  print('\"Fizz\"')\n",
        "else:\n",
        "  print(number)"
      ],
      "execution_count": null,
      "outputs": [
        {
          "output_type": "stream",
          "text": [
            "숫자를 입력하시오:10\n",
            "\"Buzz\"\n"
          ],
          "name": "stdout"
        }
      ]
    },
    {
      "cell_type": "code",
      "metadata": {
        "id": "Hva0Dp8gfhCS"
      },
      "source": [
        ""
      ],
      "execution_count": null,
      "outputs": []
    },
    {
      "cell_type": "markdown",
      "metadata": {
        "id": "nXWWWoBvfhCU"
      },
      "source": [
        "# 문제 2.\n",
        "- 나이를 입력받아 나이에 따라 지하철 교통요금 출력하는 프로그램을 만드시오.\n",
        "- 8세 미만의 어린이의 지하철 교통요금은 450원이다.\n",
        "- 8세 이상 19세 이하의 청소년 지하철 교통요금은 720원이다.\n",
        "- 20세 이상의 성인 지하철 교통요금은 1250원이다\n",
        "- 입력 예1: 2\n",
        "- 출력 예1: \"450원입니다.\"\n",
        "- 입력 예2: 19\n",
        "- 출력 예2: \"720원입니다.\"\n",
        "- 입력 예3: 82\n",
        "- 출력 예3: \"1250원입니다.\""
      ]
    },
    {
      "cell_type": "code",
      "metadata": {
        "colab": {
          "base_uri": "https://localhost:8080/"
        },
        "id": "bFedq4esfhCX",
        "outputId": "898b6d38-23ef-4bf4-e72b-f8a3f626a998"
      },
      "source": [
        "age = int(input('나이를 입력하십시오'))\n",
        "if age<8 :\n",
        "  print('450원입니다.')\n",
        "elif age>=8 and age<=19 :\n",
        "  print('720원입니다.')\n",
        "elif age>=20 :\n",
        "  print('1250원입니다')\n"
      ],
      "execution_count": null,
      "outputs": [
        {
          "output_type": "stream",
          "text": [
            "나이를 입력하십시오8\n",
            "720원입니다.\n"
          ],
          "name": "stdout"
        }
      ]
    },
    {
      "cell_type": "code",
      "metadata": {
        "id": "e4SEohy3lbAa"
      },
      "source": [
        ""
      ],
      "execution_count": null,
      "outputs": []
    },
    {
      "cell_type": "code",
      "metadata": {
        "id": "85_31IIJfhCZ"
      },
      "source": [
        ""
      ],
      "execution_count": null,
      "outputs": []
    },
    {
      "cell_type": "markdown",
      "metadata": {
        "id": "sDtE0X2xfhCa"
      },
      "source": [
        "# 문제3.\n",
        "- 초를 입력 받아서 시간과 분으로 변환하는 프로그램을 작성하시오.\n",
        "- 입력 예: 3598\n",
        "- 출력 예: 59분 58초"
      ]
    },
    {
      "cell_type": "code",
      "metadata": {
        "id": "EL-EsfY-fhCb",
        "colab": {
          "base_uri": "https://localhost:8080/"
        },
        "outputId": "c25d9f6b-e4fb-44f6-df01-d3308342920d"
      },
      "source": [
        "second = int(input('초를 입력하시오:'))\n",
        "if second>60 :\n",
        "  minutes = second//60\n",
        "  seconds = second%60\n",
        "  print(minutes,'분',seconds,'초')\n",
        "elif second>3600 :\n",
        "  hours = second//3600\n",
        "  minutes = second//60\n",
        "  seconds2 = second%60\n",
        "  print(hours,'시간',minutes,'분',seconds2,'초')\n",
        "else:\n",
        "  print(second)\n"
      ],
      "execution_count": null,
      "outputs": [
        {
          "output_type": "stream",
          "text": [
            "초를 입력하시오:3598\n",
            "59 분 58 초\n"
          ],
          "name": "stdout"
        }
      ]
    },
    {
      "cell_type": "code",
      "metadata": {
        "id": "820UnWnufhCc"
      },
      "source": [
        ""
      ],
      "execution_count": null,
      "outputs": []
    },
    {
      "cell_type": "markdown",
      "metadata": {
        "id": "3CZgid9ofhCd"
      },
      "source": [
        "# 문제 4.\n",
        "- 섭씨를 입력받아서 화씨로 변환하는 프로그램을 작성하시오.\n",
        "- 수식:  F(화씨) = 9.0 / 5.0 * C(섭씨)+ 32\n",
        "- 입력 예: 5\n",
        "- 출력 예: 41.0"
      ]
    },
    {
      "cell_type": "code",
      "metadata": {
        "id": "xxJnmtUffhCe",
        "colab": {
          "base_uri": "https://localhost:8080/"
        },
        "outputId": "11c18958-a8a5-4413-b0d5-a42169c8925a"
      },
      "source": [
        "cen = float(input('섭씨 온도를 입력하시오:'))\n",
        "fa = 9.0/5.0*cen+32\n",
        "print(round(fa,1))"
      ],
      "execution_count": null,
      "outputs": [
        {
          "output_type": "stream",
          "text": [
            "섭씨 온도를 입력하시오:5\n",
            "41.0\n"
          ],
          "name": "stdout"
        }
      ]
    },
    {
      "cell_type": "code",
      "metadata": {
        "id": "BY431I2yfhCf"
      },
      "source": [
        ""
      ],
      "execution_count": null,
      "outputs": []
    },
    {
      "cell_type": "markdown",
      "metadata": {
        "id": "MBjnBcRpfhCg"
      },
      "source": [
        "# 문제 5.\n",
        "- 화씨를 입력받아서 섭씨로 변환하는 프로그램\n",
        "- 수식: C = (5 * F - 160) / 9.0\n",
        "- 입력 예: 5\n",
        "- 출력 예: -15.0"
      ]
    },
    {
      "cell_type": "code",
      "metadata": {
        "id": "EW8Dsd6ifhCg",
        "colab": {
          "base_uri": "https://localhost:8080/"
        },
        "outputId": "5ccc7fcf-c66a-49bb-ec53-2d595fdd55e3"
      },
      "source": [
        "fa = float(input('화씨 온도를 입력하시오:'))\n",
        "cen = (5*fa-160)/9.0\n",
        "print(round(cen,1))"
      ],
      "execution_count": null,
      "outputs": [
        {
          "output_type": "stream",
          "text": [
            "화씨 온도를 입력하시오:5\n",
            "-15.0\n"
          ],
          "name": "stdout"
        }
      ]
    },
    {
      "cell_type": "code",
      "metadata": {
        "id": "cvW7yxLDfhCh"
      },
      "source": [
        ""
      ],
      "execution_count": null,
      "outputs": []
    },
    {
      "cell_type": "markdown",
      "metadata": {
        "id": "BHhcAriGfhCi"
      },
      "source": [
        "# 문제 6.\n",
        "- 영어 알파벳 문자 하나를 입력받아 대소문자를 구분하는 코드를 작성하십시오.\n",
        "- 입력 예1: 'A'\n",
        "- 출력 예1: 대문자입니다.\n",
        "- 입력 예2: 'h'\n",
        "- 출력 예2: 소문자입니다.\n"
      ]
    },
    {
      "cell_type": "code",
      "metadata": {
        "id": "R6ygmlfKfhCj",
        "colab": {
          "base_uri": "https://localhost:8080/"
        },
        "outputId": "51b68136-3765-449a-8697-0911d019c2a0"
      },
      "source": [
        "letter = input('문자를 입력하시오:')\n",
        "capital = 'QWERTYUIOPASDFGHJKLZXCVBNM'\n",
        "if letter in capital:\n",
        "  print('대문자입니다')\n",
        "else :\n",
        "  print('소문자입니다')\n"
      ],
      "execution_count": null,
      "outputs": [
        {
          "output_type": "stream",
          "text": [
            "문자를 입력하시오:e\n",
            "소문자입니다\n"
          ],
          "name": "stdout"
        }
      ]
    },
    {
      "cell_type": "code",
      "metadata": {
        "id": "O6hXzQ8BfhCj"
      },
      "source": [
        ""
      ],
      "execution_count": null,
      "outputs": []
    },
    {
      "cell_type": "markdown",
      "metadata": {
        "id": "jU7OFB63fhCk"
      },
      "source": [
        "# 문제 7.\n",
        "- 가상의 두 사람(A, B)이 가위 바위 보 중 하나를 내서 승패를 가르는 가위 바위 보 게임을 작성하십시오.\n",
        "- 이 때 [\"가위\", \"바위\", \"보\"] 리스트를 활용합니다.\n",
        "- 입력 예: \"가위\" \"바위\"\n",
        "- 출력 예: \"B가 이겼습니다.\""
      ]
    },
    {
      "cell_type": "code",
      "metadata": {
        "id": "1uj4tABWfhCl",
        "colab": {
          "base_uri": "https://localhost:8080/"
        },
        "outputId": "77b54ef9-66af-4577-da33-9fd4bfb46e9e"
      },
      "source": [
        "승부 = input('셋 중 하나를 입력하시오:')\n",
        "승부2 = input('셋 중 하나를 입력하시오:')\n",
        "승부리스트 = ['가위','바위','보']\n",
        "while 승부리스트.index(승부)==승부리스트.index(승부2) :\n",
        "  print('비겼습니다, 다시 하세요')\n",
        "  승부 = input('셋 중 하나를 입력하시오:')\n",
        "  승부2 = input('셋 중 하나를 입력하시오:')\n",
        "if 승부==승부리스트[0] and 승부2==승부리스트[1] :\n",
        "  print('두번째 상대가 이겼습니다')\n",
        "elif 승부==승부리스트[0] and 승부2==승부리스트[2] :\n",
        "  print('첫번째 상대가 이겼습니다')\n",
        "elif 승부==승부리스트[1] and 승부2==승부리스트[0] :\n",
        "  print('첫번째 상대가 이겼습니다')\n",
        "elif 승부==승부리스트[1] and 승부2==승부리스트[2] :\n",
        "  print('두번째 상대가 이겼습니다')\n",
        "elif 승부==승부리스트[2] and 승부2==승부리스트[1] :\n",
        "  print('첫번째 상대가 이겼습니다')\n",
        "elif 승부==승부리스트[2] and 승부2==승부리스트[0] :\n",
        "  print('두번째 상대가 이겼습니다')\n",
        "\n",
        "\n",
        "\n",
        "\n",
        "\n"
      ],
      "execution_count": null,
      "outputs": [
        {
          "output_type": "stream",
          "text": [
            "셋 중 하나를 입력하시오:가위\n",
            "셋 중 하나를 입력하시오:가위\n",
            "비겼습니다, 다시 하세요\n",
            "셋 중 하나를 입력하시오:가위\n",
            "셋 중 하나를 입력하시오:바위\n",
            "두번째 상대가 이겼습니다\n"
          ],
          "name": "stdout"
        }
      ]
    },
    {
      "cell_type": "code",
      "metadata": {
        "id": "Pn38IfH9fhCm"
      },
      "source": [
        ""
      ],
      "execution_count": null,
      "outputs": []
    },
    {
      "cell_type": "markdown",
      "metadata": {
        "id": "f0G9-etBfhCo"
      },
      "source": [
        "# 문제 8.\n",
        "- 다음의 결과와 같이 입력된 문자가 대문자일 경우 소문자로, 소문자일 경우 대문자로 변경하고,\n",
        "- 알파벳이 아닐 경우엔 그냥 출력하는 코드를 작성하십시오.\n",
        "- 입력 예1: A\n",
        "- 출력 예1: a\n",
        "- 입력 예2: 가나다\n",
        "- 출력 예2: 가나다\n"
      ]
    },
    {
      "cell_type": "code",
      "metadata": {
        "id": "YJoRLSJPfhCp",
        "colab": {
          "base_uri": "https://localhost:8080/"
        },
        "outputId": "7c582975-21af-4f9b-cd7b-0dc8b38c80b6"
      },
      "source": [
        "letter = input('문자를 입력하시오:')\n",
        "letterc = 'QWERTYUIOPASDFGHJKLZXCVBNM'\n",
        "lettere = 'qwertyuiopasdfghjklzxcvbnm'\n",
        "if letter in letterc :\n",
        "  let = letterc.index(letter)\n",
        "  print(lettere[let])\n",
        "elif letter in lettere :\n",
        "  let2 = lettere.index(letter)\n",
        "  print(letterc[let2])\n",
        "else :\n",
        "  print(letter)"
      ],
      "execution_count": null,
      "outputs": [
        {
          "output_type": "stream",
          "text": [
            "문자를 입력하시오:t\n",
            "T\n"
          ],
          "name": "stdout"
        }
      ]
    },
    {
      "cell_type": "code",
      "metadata": {
        "id": "yzfdCWXZfhCq"
      },
      "source": [
        ""
      ],
      "execution_count": null,
      "outputs": []
    },
    {
      "cell_type": "code",
      "metadata": {
        "id": "6gLrSM3NfhCr"
      },
      "source": [
        ""
      ],
      "execution_count": null,
      "outputs": []
    }
  ]
}