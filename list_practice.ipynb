{
  "nbformat": 4,
  "nbformat_minor": 0,
  "metadata": {
    "kernelspec": {
      "display_name": "Python 3",
      "language": "python",
      "name": "python3"
    },
    "language_info": {
      "codemirror_mode": {
        "name": "ipython",
        "version": 3
      },
      "file_extension": ".py",
      "mimetype": "text/x-python",
      "name": "python",
      "nbconvert_exporter": "python",
      "pygments_lexer": "ipython3",
      "version": "3.6.6"
    },
    "colab": {
      "name": "list_practice.ipynb",
      "provenance": [],
      "collapsed_sections": [],
      "include_colab_link": true
    }
  },
  "cells": [
    {
      "cell_type": "markdown",
      "metadata": {
        "id": "view-in-github",
        "colab_type": "text"
      },
      "source": [
        "<a href=\"https://colab.research.google.com/github/LeeLee-ai/Lee/blob/main/list_practice.ipynb\" target=\"_parent\"><img src=\"https://colab.research.google.com/assets/colab-badge.svg\" alt=\"Open In Colab\"/></a>"
      ]
    },
    {
      "cell_type": "markdown",
      "metadata": {
        "id": "1wpPNEYSy-Tu"
      },
      "source": [
        "# 문제 1.\n",
        "- 문자 10개를 저장할 수 있는 리스트를 만들고 10개의 문자를 입력받아 입력받은 문자를 이어서 출력하는 프로그램을 작성하시오.\n",
        "- 입력 예: A B C D E F G H I J\n",
        "- 출력 예: ABCDEFGHIJ"
      ]
    },
    {
      "cell_type": "code",
      "metadata": {
        "id": "HfryDyz2y-T4",
        "colab": {
          "base_uri": "https://localhost:8080/"
        },
        "outputId": "c117ef86-74cd-4b43-97b0-5198fd5adbcc"
      },
      "source": [
        "lists = input('문자10개를 띄어쓰기를 해가며 입력하십시오:')\n",
        "while len(lists)>19:\n",
        "  print('다시 입력해주십시오')\n",
        "  lists = input('문자10개를 띄어쓰기를 해가며 입력하십시오:')\n",
        "lists2 = lists.split(' ')\n",
        "alphabet = \"\".join(lists2)\n",
        "print(alphabet)"
      ],
      "execution_count": null,
      "outputs": [
        {
          "output_type": "stream",
          "text": [
            "문자10개를 띄어쓰기를 해가며 입력하십시오:A A A A A A A A A A A A A A A \n",
            "다시 입력해주십시오\n",
            "문자10개를 띄어쓰기를 해가며 입력하십시오:A B C D E F G H I J\n",
            "ABCDEFGHIJ\n"
          ],
          "name": "stdout"
        }
      ]
    },
    {
      "cell_type": "code",
      "metadata": {
        "id": "PzuI1Ev1y-T5"
      },
      "source": [
        ""
      ],
      "execution_count": null,
      "outputs": []
    },
    {
      "cell_type": "markdown",
      "metadata": {
        "id": "Hib4sNRhy-T5"
      },
      "source": [
        "# 문제 2.\n",
        "- 10개의 문자를 입력받아서 첫 번째 네 번째 일곱 번째 입력받은 문자를 차례로 출력하는 프로그램을 작성하시오.\n",
        "- 입력 예: A B C D E F G H I J\n",
        "- 출력 예: A D G"
      ]
    },
    {
      "cell_type": "code",
      "metadata": {
        "id": "xeTVOHUty-T5",
        "colab": {
          "base_uri": "https://localhost:8080/"
        },
        "outputId": "2d6fc032-6978-486c-f89a-4f31756c1518"
      },
      "source": [
        "lists = input('문자열을 최소 7개 이상 띄어쓰기를 하며 입력하십시오:')\n",
        "while len(lists)<13:\n",
        "  print('다시 입력하십시오')\n",
        "  lists = input('문자열을 최소 7개 이상 띄어쓰기를 하며 입력하십시오:')\n",
        "lists2 = lists.split(' ')\n",
        "print(lists2[0],lists2[3],lists2[6])\n"
      ],
      "execution_count": null,
      "outputs": [
        {
          "output_type": "stream",
          "text": [
            "문자열을 최소 7개 이상 띄어쓰기를 하며 입력하십시오:A B C D E F G H I J\n",
            "A D G\n"
          ],
          "name": "stdout"
        }
      ]
    },
    {
      "cell_type": "code",
      "metadata": {
        "id": "iYgnNyE0y-T6"
      },
      "source": [
        ""
      ],
      "execution_count": null,
      "outputs": []
    },
    {
      "cell_type": "markdown",
      "metadata": {
        "id": "5X6iMat3y-T6"
      },
      "source": [
        "# 문제 3.\n",
        "- 빈 리스트을 선언하고 정수를 차례로 입력받다가 0 이 입력되면 0 을 제외하고 그 때까지 입력된 정수를 가장 나중에 입력된 정수부터 차례대로 출력하는 프로그램을 작성하시오.\n",
        "- 입력 예: \n",
        "    * 3 \n",
        "    * 5\n",
        "    * 10 \n",
        "    * 55 \n",
        "    * 0\n",
        "- 출력 예: 55 10 5 3"
      ]
    },
    {
      "cell_type": "code",
      "metadata": {
        "id": "mSSG4ViDy-T6",
        "colab": {
          "base_uri": "https://localhost:8080/"
        },
        "outputId": "c9b6cc66-a1e6-439d-e942-0ab7be2eba04"
      },
      "source": [
        "lists = []\n",
        "num = int(input('숫자를 입력하십시오:'))\n",
        "while num>0:\n",
        "  lists.append(num)\n",
        "  num = int(input('숫자를 입력하십시오:'))\n",
        "lists2 = lists[::-1]\n",
        "print(*lists2)"
      ],
      "execution_count": null,
      "outputs": [
        {
          "output_type": "stream",
          "text": [
            "숫자를 입력하십시오:3\n",
            "숫자를 입력하십시오:5\n",
            "숫자를 입력하십시오:10\n",
            "숫자를 입력하십시오:55\n",
            "숫자를 입력하십시오:0\n",
            "55 10 5 3\n"
          ],
          "name": "stdout"
        }
      ]
    },
    {
      "cell_type": "code",
      "metadata": {
        "id": "lHPr9eiLy-T6"
      },
      "source": [
        ""
      ],
      "execution_count": null,
      "outputs": []
    },
    {
      "cell_type": "markdown",
      "metadata": {
        "id": "8ozcCzB_y-T7"
      },
      "source": [
        "# 문제 4.\n",
        "- 1반부터 6반까지의 평균점수를 저장한 후 두 반의 반 번호를 입력받아 두 반 평균점수의 합을 출력하는 프로그램을 작성하시오.\n",
        "- 반별 평균점수는 초기값으로 1반부터 차례로 85.6 79.5 83.1 80.0 78.2 75.0으로 초기화하고, \n",
        "- 출력은 소수 두 번째 자리에서 반올림하여 소수 첫째자리까지 한다.\n",
        "- 입력 예: 1 3 (1반 3반을 의미)\n",
        "- 출력 예: 168.7"
      ]
    },
    {
      "cell_type": "code",
      "metadata": {
        "id": "gs0QTuvky-T7",
        "colab": {
          "base_uri": "https://localhost:8080/"
        },
        "outputId": "977ee5fc-2826-4106-ec5b-300f2f9d9a91"
      },
      "source": [
        "score = float(input('반 평균점수를 입력하십시오:'))\n",
        "lists = []\n",
        "i = 0\n",
        "y = 0\n",
        "while score>0 and i<5:\n",
        "  lists.append(score)\n",
        "  score = float(input('반 평균점수를 입력하십시오:'))\n",
        "  i+=1\n",
        "num = input('몇반인지 입력하십시오:')\n",
        "lists2 = num.split(\" \")\n",
        "for e in range(0,len(lists2)):\n",
        "  t = int(lists2[e])\n",
        "  y+=lists[t-1]\n",
        "average = y/len(lists2)\n",
        "print(round(average,1))\n",
        "\n",
        "\n",
        "\n",
        "  \n"
      ],
      "execution_count": null,
      "outputs": [
        {
          "output_type": "stream",
          "text": [
            "반 평균점수를 입력하십시오:56.6\n",
            "반 평균점수를 입력하십시오:78.8\n",
            "반 평균점수를 입력하십시오:88.8\n",
            "반 평균점수를 입력하십시오:99.9\n",
            "반 평균점수를 입력하십시오:77.7\n",
            "반 평균점수를 입력하십시오:66.6\n",
            "몇반인지 입력하십시오:1 3\n",
            "72.7\n"
          ],
          "name": "stdout"
        }
      ]
    },
    {
      "cell_type": "code",
      "metadata": {
        "id": "ljeHwH0Jy-T7"
      },
      "source": [
        ""
      ],
      "execution_count": null,
      "outputs": []
    },
    {
      "cell_type": "markdown",
      "metadata": {
        "id": "sxTOTGqwy-T7"
      },
      "source": [
        "# 문제 5.\n",
        "- 10개의 정수를 입력받아 그 중 가장 작은 수를 출력하는 프로그램을 작성하시오.\n",
        "- 입력 예: 5 10 8 55 6 31 12 24 61 2\n",
        "- 출력 예: 2"
      ]
    },
    {
      "cell_type": "code",
      "metadata": {
        "id": "Jr8hszFRy-T8",
        "colab": {
          "base_uri": "https://localhost:8080/"
        },
        "outputId": "12550a4a-7502-4651-fe8c-881911c40806"
      },
      "source": [
        "num = input('숫자열개를 입력하십시오:')\n",
        "if num.count(\" \")>9:\n",
        "  num = input(\"숫자열개를 입력하십시오\")\n",
        "lists = num.split(\" \")\n",
        "minivalue = int(lists[0])\n",
        "for i in range(0,len(lists)):\n",
        "  if minivalue>int(lists[i]):\n",
        "    minivalue = int(lists[i])\n",
        "print(minivalue)"
      ],
      "execution_count": null,
      "outputs": [
        {
          "output_type": "stream",
          "text": [
            "숫자열개를 입력하십시오:5 10 8 55 6 31 12 24 61 2\n",
            "2\n"
          ],
          "name": "stdout"
        }
      ]
    },
    {
      "cell_type": "code",
      "metadata": {
        "id": "JtA2gUUAy-T8"
      },
      "source": [
        ""
      ],
      "execution_count": null,
      "outputs": []
    },
    {
      "cell_type": "markdown",
      "metadata": {
        "id": "t6408HTPy-T8"
      },
      "source": [
        "# 문제 6.\n",
        "- 10개의 정수를 입력받아 100 미만의 수 중 가장 큰 수와 100 이상의 수 중 가장 작은 수를 출력하는 프로그램을 작성하시오.\n",
        "- 입력 예: 88 123 659 15 443 1 99 313 105 48\n",
        "- 출력 예: 99 105"
      ]
    },
    {
      "cell_type": "code",
      "metadata": {
        "id": "6S1l0Ryjy-T8",
        "colab": {
          "base_uri": "https://localhost:8080/"
        },
        "outputId": "f249205a-fce2-4f1d-aba7-06ecc32e11dc"
      },
      "source": [
        "num = input('정수 10개를 입력하십시오:')\n",
        "if num.count(\" \")>9:\n",
        "  num = input('정수 10개를 입력하십시오:')\n",
        "lists = list(map(int,num.split(\" \")))\n",
        "lists2 = []\n",
        "lists3 = []\n",
        "for i in lists:\n",
        "  if i>=100:\n",
        "    lists2.append(i)\n",
        "  else:\n",
        "    lists3.append(i)\n",
        "minivalue = lists2[0]\n",
        "for e in range(0,len(lists2)):\n",
        "  if minivalue>lists2[e]:\n",
        "    minivalue = lists2[e]\n",
        "maxvalue = lists3[0]\n",
        "for u in range(0,len(lists3)):\n",
        "  if maxvalue<lists3[u]:\n",
        "    maxvalue = lists3[u]\n",
        "print(maxvalue)\n",
        "print(minivalue)\n"
      ],
      "execution_count": null,
      "outputs": [
        {
          "output_type": "stream",
          "text": [
            "정수 10개를 입력하십시오:88 123 659 15 443 1 99 313 105 48\n",
            "99\n",
            "105\n"
          ],
          "name": "stdout"
        }
      ]
    },
    {
      "cell_type": "code",
      "metadata": {
        "id": "osr-p5eLy-T8"
      },
      "source": [
        ""
      ],
      "execution_count": null,
      "outputs": []
    },
    {
      "cell_type": "markdown",
      "metadata": {
        "id": "YR-wuuO-y-T8"
      },
      "source": [
        "# 문제 7.\n",
        "- 10개의 정수를 입력받아 리스트에 저장한 후 짝수 번째 입력된 값의 합과 홀수 번째 입력된 값의 평균을 출력하는 프로그램을 작성하시오.\n",
        "- 평균은 반올림하여 소수첫째자리까지 출력한다.\n",
        "- 입력 예: 95 100 88 65 76 89 58 93 77 99\n",
        "- 출력 예: \n",
        "    * sum : 446\n",
        "    * avg : 78.8"
      ]
    },
    {
      "cell_type": "code",
      "metadata": {
        "id": "8_mRW1_dy-T9",
        "colab": {
          "base_uri": "https://localhost:8080/"
        },
        "outputId": "ddc38b8d-8edd-42d1-b6d2-c7af6578ef5e"
      },
      "source": [
        "num = input('정수를 입력하십시오:')\n",
        "if num.count(\" \")>9:\n",
        "  num = input('정수를 입력하십시오:')\n",
        "lists = list(map(int,num.split(\" \")))\n",
        "x = 0\n",
        "y = 0\n",
        "e = 0\n",
        "for i in range(0,len(lists)):\n",
        "  if i%2!=0:\n",
        "    x+=lists[i]\n",
        "  elif i%2==0 or i==0:\n",
        "    y+=lists[i]\n",
        "    e+=1\n",
        "print(x)\n",
        "average = y/e\n",
        "print(round(average,1))\n"
      ],
      "execution_count": null,
      "outputs": [
        {
          "output_type": "stream",
          "text": [
            "정수를 입력하십시오:95 100 88 65 76 89 58 93 77 99\n",
            "446\n",
            "78.8\n"
          ],
          "name": "stdout"
        }
      ]
    },
    {
      "cell_type": "code",
      "metadata": {
        "id": "KybuuXqly-T9"
      },
      "source": [
        ""
      ],
      "execution_count": null,
      "outputs": []
    },
    {
      "cell_type": "markdown",
      "metadata": {
        "id": "sYI9NSkPy-T9"
      },
      "source": [
        "# 문제 8.\n",
        "- 10개의 정수를 입력받아 리스트에 저장한 후 내림차순으로 정렬하여 출력하시오.\n",
        "- 입력 예: 95 100 88 65 76 89 58 93 77 99\n",
        "- 출력 예: 100 99 95 93 89 88 77 76 65 58"
      ]
    },
    {
      "cell_type": "code",
      "metadata": {
        "id": "4--CfOUNy-T9",
        "colab": {
          "base_uri": "https://localhost:8080/"
        },
        "outputId": "160002b6-38a7-4f54-ea1a-adf7412dfe95"
      },
      "source": [
        "num = input('정수를 입력하십시오:')\n",
        "lists = list(map(int,num.split(\" \")))\n",
        "lists2 = []\n",
        "e = 0\n",
        "while e<=9:\n",
        "  maxvalue = lists[0]\n",
        "  r = len(lists)\n",
        "  for i in range(0,r):\n",
        "    if maxvalue<lists[i]:\n",
        "      maxvalue = lists[i]\n",
        "  lists2.append(maxvalue)\n",
        "  lists.remove(maxvalue)\n",
        "  e+=1\n",
        "print(lists2)\n"
      ],
      "execution_count": 24,
      "outputs": [
        {
          "output_type": "stream",
          "text": [
            "정수를 입력하십시오:95 100 88 65 76 89 58 93 77 99\n",
            "[100, 99, 95, 93, 89, 88, 77, 76, 65, 58]\n"
          ],
          "name": "stdout"
        }
      ]
    },
    {
      "cell_type": "code",
      "metadata": {
        "id": "pYpzYwtsy-T9"
      },
      "source": [
        ""
      ],
      "execution_count": null,
      "outputs": []
    }
  ]
}