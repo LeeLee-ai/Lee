{
  "nbformat": 4,
  "nbformat_minor": 0,
  "metadata": {
    "kernelspec": {
      "display_name": "Python 3",
      "language": "python",
      "name": "python3"
    },
    "language_info": {
      "codemirror_mode": {
        "name": "ipython",
        "version": 3
      },
      "file_extension": ".py",
      "mimetype": "text/x-python",
      "name": "python",
      "nbconvert_exporter": "python",
      "pygments_lexer": "ipython3",
      "version": "3.6.6"
    },
    "colab": {
      "name": "4.2 practice loop2.ipynb",
      "provenance": [],
      "collapsed_sections": [],
      "include_colab_link": true
    }
  },
  "cells": [
    {
      "cell_type": "markdown",
      "metadata": {
        "id": "view-in-github",
        "colab_type": "text"
      },
      "source": [
        "<a href=\"https://colab.research.google.com/github/LeeLee-ai/Lee/blob/main/4_2_practice_loop2.ipynb\" target=\"_parent\"><img src=\"https://colab.research.google.com/assets/colab-badge.svg\" alt=\"Open In Colab\"/></a>"
      ]
    },
    {
      "cell_type": "markdown",
      "metadata": {
        "id": "H7VkQJKyTWL3"
      },
      "source": [
        "# 문제 1.\n",
        "## 1부터 100까지의 정수 중 한 개를 입력받아 100 보다 작은 배수들을 차례로 출력하다가 10 의 배수가 출력되면 프로그램을 종료하도록 프로그램을 작성하시오.\n",
        "- 입력 예: 7\n",
        "- 출력 예: 7 14 21 28 35 42 49 56 63 70"
      ]
    },
    {
      "cell_type": "code",
      "metadata": {
        "id": "8dbvUfGfTWL9",
        "colab": {
          "base_uri": "https://localhost:8080/"
        },
        "outputId": "2895d9e1-e86e-4d77-f015-d1156f7e1e70"
      },
      "source": [
        "number = int(input('숫자를 입력하시오:'))\n",
        "for num2 in range(1,11):\n",
        "  if number<100 :\n",
        "    num3 = number * num2\n",
        "    print(num3,end=' ')"
      ],
      "execution_count": null,
      "outputs": [
        {
          "output_type": "stream",
          "text": [
            "숫자를 입력하시오:7\n",
            "7 14 21 28 35 42 49 56 63 70 "
          ],
          "name": "stdout"
        }
      ]
    },
    {
      "cell_type": "code",
      "metadata": {
        "id": "5UpCtHA4TWL-",
        "outputId": "7989443d-d716-42bb-d9a1-5e76a6a53e5e"
      },
      "source": [
        ""
      ],
      "execution_count": null,
      "outputs": [
        {
          "output_type": "stream",
          "text": [
            "입력: 13\n",
            "출력: 13 26 39 52 65 78 91 "
          ],
          "name": "stdout"
        }
      ]
    },
    {
      "cell_type": "code",
      "metadata": {
        "id": "MFeJKxTKTWL_",
        "outputId": "c5664710-5017-4721-88bb-3284506df27c"
      },
      "source": [
        ""
      ],
      "execution_count": null,
      "outputs": [
        {
          "output_type": "stream",
          "text": [
            "입력: 13\n",
            "출력: 13 26 39 52 65 78 91 "
          ],
          "name": "stdout"
        }
      ]
    },
    {
      "cell_type": "code",
      "metadata": {
        "id": "ykwYusIgTWL_"
      },
      "source": [
        ""
      ],
      "execution_count": null,
      "outputs": []
    },
    {
      "cell_type": "markdown",
      "metadata": {
        "id": "ajUXHjJ2TWL_"
      },
      "source": [
        "# 문제 2.\n",
        "## 자연수 n을 입력받아 \"출력 예\"와 같이 공백으로 구분하여 출력하는 프로그램을 작성하시오.\n",
        "- 입력 예: 3"
      ]
    },
    {
      "cell_type": "code",
      "metadata": {
        "id": "ghCXG2bATWMA"
      },
      "source": [
        "    1\n",
        "  1 2\n",
        "1 2 3\n",
        "\n",
        "    1\n",
        "  1 3\n",
        "1 3 5\n",
        "    "
      ],
      "execution_count": null,
      "outputs": []
    },
    {
      "cell_type": "code",
      "metadata": {
        "id": "z-zJFTG3TWMA",
        "colab": {
          "base_uri": "https://localhost:8080/"
        },
        "outputId": "b53aa904-e95b-4dc0-ca8e-d30e58a7616d"
      },
      "source": [
        "number = int(input('숫자를 입력하시오:'))\n",
        "e = 2*(number-1) # e = 4\n",
        "o = number-1 # o = 2\n",
        "for i in range(0,e+1,2): #  0~5 ,2 칸\n",
        "  x = e-i \n",
        "  print(' '*x, end='')\n",
        "  if o<=number+1:\n",
        "    for j in range(1,o):\n",
        "      print(str(j),end=' ')\n",
        "    o = o + 1\n",
        "    print()\n",
        "\n",
        "  \n",
        "  \n",
        "\n",
        "  \n",
        "  "
      ],
      "execution_count": null,
      "outputs": [
        {
          "output_type": "stream",
          "text": [
            "숫자를 입력하시오:3\n",
            "    1 \n",
            "  1 2 \n",
            "1 2 3 \n"
          ],
          "name": "stdout"
        }
      ]
    },
    {
      "cell_type": "code",
      "metadata": {
        "id": "vey7_stuTWMA",
        "colab": {
          "base_uri": "https://localhost:8080/"
        },
        "outputId": "e85c7f0f-cce1-4f8c-a05f-f263b7c0e5e2"
      },
      "source": [
        "number = int(input('숫자를 입력하시오:'))\n",
        "e = number-1\n",
        "o = 2\n",
        "for i in range(0,e+1,2) :\n",
        "  x = e-i\n",
        "  print(' '*x,end='')\n",
        "  if o<=number+1:\n",
        "    for j in range(1,o,2):\n",
        "      print(str(j),end=' ')\n",
        "    o = o + 2\n",
        "    print()  "
      ],
      "execution_count": null,
      "outputs": [
        {
          "output_type": "stream",
          "text": [
            "숫자를 입력하시오:5\n",
            "    1 \n",
            "  1 3 \n",
            "1 3 5 \n"
          ],
          "name": "stdout"
        }
      ]
    },
    {
      "cell_type": "markdown",
      "metadata": {
        "id": "J4UnDb7XTWMB"
      },
      "source": [
        "# 문제 3.\n",
        "## 자연수 n을 입력받아 \"출력 예\"와 같이 공백으로 구분하여 출력되는 프로그램을 작성하시오.\n",
        "- 입력 예 : 3"
      ]
    },
    {
      "cell_type": "code",
      "metadata": {
        "id": "S4lv-jzkTWMB"
      },
      "source": [
        "1 2 3\n",
        "  4 5\n",
        "    6\n",
        "    \n",
        "1 3 5\n",
        "  7 9\n",
        "    11    "
      ],
      "execution_count": null,
      "outputs": []
    },
    {
      "cell_type": "code",
      "metadata": {
        "colab": {
          "base_uri": "https://localhost:8080/"
        },
        "id": "eBPI7q7dOXQg",
        "outputId": "70d3087e-20e2-4120-be6e-c75b4888ab23"
      },
      "source": [
        "number = int(input('숫자를 입력하시오:'))\n",
        "n = number-1\n",
        "u = number+n\n",
        "u2 = number+n\n",
        "lists = [u2,number]\n",
        "i = 0\n",
        "e = 0\n",
        "for o in range(number-2,0,-1):\n",
        "  u = u + o\n",
        "  lists.append(u)\n",
        "for num in range(1,u+1):\n",
        "  print(' '*i,num,end='')\n",
        "  if num in lists:\n",
        "    i = i + 2 + e\n",
        "    print()\n",
        "    e = e + 2\n",
        "  else:\n",
        "    i = 0\n"
      ],
      "execution_count": null,
      "outputs": [
        {
          "output_type": "stream",
          "text": [
            "숫자를 입력하시오:3\n",
            " 1 2 3\n",
            "   4 5\n",
            "     6\n"
          ],
          "name": "stdout"
        }
      ]
    },
    {
      "cell_type": "code",
      "metadata": {
        "colab": {
          "base_uri": "https://localhost:8080/"
        },
        "id": "SiLpW-sJqotQ",
        "outputId": "02a78f87-5322-426d-989f-3a82f6ad5421"
      },
      "source": [
        "number = int(input('숫자를 입력하시오:'))\n",
        "n = number-1\n",
        "u = number+n\n",
        "u2 = number+n\n",
        "lists = [number,u2]\n",
        "i = 0\n",
        "e = 0\n",
        "for o in range(number-3,0,-2):\n",
        "  u = u + o\n",
        "  lists.append(u)\n",
        "for num in range(1,u+1,2):\n",
        "  print(' '*i,num,end='')\n",
        "  if num in lists:\n",
        "    i = i + 2 + e\n",
        "    print()\n",
        "    e = e + 2\n",
        "  else:\n",
        "    i = 0\n",
        "\n"
      ],
      "execution_count": null,
      "outputs": [
        {
          "output_type": "stream",
          "text": [
            "숫자를 입력하시오:5\n",
            " 1 3 5\n",
            "   7 9\n",
            "     11\n"
          ],
          "name": "stdout"
        }
      ]
    },
    {
      "cell_type": "markdown",
      "metadata": {
        "id": "L769g7YpTWMC"
      },
      "source": [
        "# 문제 4.\n",
        "## 10개의 정수를 입력받아 100 미만의 수 중 가장 큰 수와 100 이상의 수 중 가장 작은 수를 출력하는 프로그램을 작성하시오.\n",
        "- List 데이터 구조를 활용하시오.\n",
        "- 입력 예: 88 123 659 15 443 1 99 313 105 48\n",
        "- 출력 예: 99 105"
      ]
    },
    {
      "cell_type": "code",
      "metadata": {
        "id": "tzeyHI87TWMC",
        "colab": {
          "base_uri": "https://localhost:8080/"
        },
        "outputId": "0fbbef58-a8a7-4166-f879-62b40aa16783"
      },
      "source": [
        "number_list=input('숫자를 입력하시오')\n",
        "lists = number_list.split(' ')\n",
        "lists = list(map(int,lists))\n",
        "a = []\n",
        "b = []\n",
        "for num in lists:\n",
        "  if num>=100:\n",
        "    a.append(num)\n",
        "  else:\n",
        "    b.append(num)\n",
        "minivalue = a[0]\n",
        "for i in range(1,len(a)):\n",
        "  if a[i]<minivalue:\n",
        "    minivalue = a[i]\n",
        "print(minivalue)\n",
        "maxvalue = b[0]\n",
        "for e in range(1,len(b)):\n",
        "  if maxvalue<b[i]:\n",
        "    maxvalue = b[i]\n",
        "print(maxvalue)\n",
        "\n"
      ],
      "execution_count": null,
      "outputs": [
        {
          "output_type": "stream",
          "text": [
            "숫자를 입력하시오99 88 105 106\n",
            "105\n",
            "99\n"
          ],
          "name": "stdout"
        }
      ]
    },
    {
      "cell_type": "code",
      "metadata": {
        "id": "-FN0mhPvTWMD"
      },
      "source": [
        ""
      ],
      "execution_count": null,
      "outputs": []
    },
    {
      "cell_type": "code",
      "metadata": {
        "id": "_4FZmGxqTWMD"
      },
      "source": [
        ""
      ],
      "execution_count": null,
      "outputs": []
    },
    {
      "cell_type": "markdown",
      "metadata": {
        "id": "3zJOeTW7TWMD"
      },
      "source": [
        "# 문제 5.\n",
        "## 리스트을 선언한 후 정수를 차례로 입력 받다가 -1이 입력되면 입력을 중단하고, -1을 제외한 마지막 세 개의 정수를 출력하는 프로그램을 작성하시오. \n",
        "- 입력받은 정수가 -1을 제외하고 3개 미만일 경우에는 -1을 제외하고 입력받은 정수를 모두 출력한다.\n",
        "- 입력 예: 30 20 10 60 80 -1\n",
        "- 출력 예: 10 60 80"
      ]
    },
    {
      "cell_type": "code",
      "metadata": {
        "id": "wsmKhqTrTWMD",
        "colab": {
          "base_uri": "https://localhost:8080/"
        },
        "outputId": "1f792db2-9ecc-4be9-e925-f08224945431"
      },
      "source": [
        "number = []\n",
        "num = int(input('숫자를 입력하시오:'))\n",
        "while num>0:\n",
        "  number.append(num)\n",
        "  num = int(input('숫자를 입력하시오:'))\n",
        "for i in range(len(number)-1,len(number)-4,-1):\n",
        "  print(number[i],end=' ')\n",
        "  "
      ],
      "execution_count": null,
      "outputs": [
        {
          "output_type": "stream",
          "text": [
            "숫자를 입력하시오:30\n",
            "숫자를 입력하시오:20\n",
            "숫자를 입력하시오:10\n",
            "숫자를 입력하시오:60\n",
            "숫자를 입력하시오:80\n",
            "숫자를 입력하시오:-1\n",
            "80 60 10 "
          ],
          "name": "stdout"
        }
      ]
    },
    {
      "cell_type": "code",
      "metadata": {
        "id": "Ijd1xzzUTWME"
      },
      "source": [
        ""
      ],
      "execution_count": null,
      "outputs": []
    },
    {
      "cell_type": "markdown",
      "metadata": {
        "id": "nkhBLviATWME"
      },
      "source": [
        "# 문제 6. \n",
        "## 사용자에게 base문자열을 첫 줄에 입력받고,  다음으로 찾고자하는 문자 1개를 입력받아 문자열 내의 검색 문자의 모든 위치를 출력하는 프로그램을 작성하시오.\n",
        "- 첫 번째 위치는 0번이며 리스트에 없는 문자가 입력되면 \"none\" 라는 메시지를 출력하고 끝내는 프로그램을 작성하시오.\n",
        "- 예제: \"my name is dean\" 을 base 문자열로 입력하고, 찾고자 하는 문자를 'd'로 입력하면 11을 출력해주면 된다.\n",
        "- 만약, 찾으려는 문자가 2개 이상인 경우에는 모든 위치를 출력해준다."
      ]
    },
    {
      "cell_type": "code",
      "metadata": {
        "id": "ELANBc-zTWME",
        "colab": {
          "base_uri": "https://localhost:8080/"
        },
        "outputId": "b7986393-55de-48f9-cdf8-80d5b083b99f"
      },
      "source": [
        "sentence = input('문장을 입력하십시오:')\n",
        "letter = input('찾고자 하는 문자를 입력하십시오:')\n",
        "num = []\n",
        "for i in range(0,len(sentence)-1):\n",
        "  if sentence[i]==letter:\n",
        "    num.append(i)\n",
        "if num==[]:\n",
        "  print('none')\n",
        "else:\n",
        "  print(num)"
      ],
      "execution_count": null,
      "outputs": [
        {
          "output_type": "stream",
          "text": [
            "문장을 입력하십시오:my name is dean\n",
            "찾고자 하는 문자를 입력하십시오:a\n",
            "[4, 13]\n"
          ],
          "name": "stdout"
        }
      ]
    },
    {
      "cell_type": "code",
      "metadata": {
        "id": "wT_CJ7HYTWME",
        "outputId": "55335568-fdba-49ca-c1a4-edeb18d69f12"
      },
      "source": [
        ""
      ],
      "execution_count": null,
      "outputs": [
        {
          "output_type": "stream",
          "text": [
            "입력 문자열: my name is dean\n",
            "찾고 싶은 문자: a\n",
            "[4, 13]\n"
          ],
          "name": "stdout"
        }
      ]
    },
    {
      "cell_type": "code",
      "metadata": {
        "id": "mfXtZ3fxTWME"
      },
      "source": [
        ""
      ],
      "execution_count": null,
      "outputs": []
    },
    {
      "cell_type": "markdown",
      "metadata": {
        "id": "IK0VW7efTWMF"
      },
      "source": [
        "# 문제 7.\n",
        "## 학생들의 점수를 입력을 받다가 0이 입력되면 그 때까지 입력받은 점수를 10점 단위로 구분하여 점수대별 학생 수를 출력하는 프로그램을 작성하시오. \n",
        "- 1명도 없는 점수는 출력하지 않는다.\n",
        "- 입력 예: 63 80 95 100 46 64 88 0"
      ]
    },
    {
      "cell_type": "code",
      "metadata": {
        "id": "s1Uylg0GTWMF"
      },
      "source": [
        "출력 예: \n",
        "100 : 1 person\n",
        "90 : 1 person\n",
        "80 : 2 person\n",
        "60 : 2 person\n",
        "40 : 1 person"
      ],
      "execution_count": null,
      "outputs": []
    },
    {
      "cell_type": "code",
      "metadata": {
        "id": "oexl5SuxTWMF",
        "colab": {
          "base_uri": "https://localhost:8080/"
        },
        "outputId": "9b99f6ff-dbe4-4a0b-d70c-8c8998780327"
      },
      "source": [
        "score = int(input('학생의 점수를 입력하시오:'))\n",
        "lists = []\n",
        "hund=0\n",
        "nine=0\n",
        "eighty=0\n",
        "sixty=0\n",
        "fourty=0\n",
        "drop=0\n",
        "while score<=100 and score>0:\n",
        "  lists.append(score)\n",
        "  score = int(input('학생의 점수를 입력하시오:'))\n",
        "for i in lists:\n",
        "  if i==100:\n",
        "    hund=hund+1\n",
        "  elif i<100 and i>=90:\n",
        "    nine=nine+1\n",
        "  elif i<90 and i>=80:\n",
        "    eighty=eighty+1\n",
        "  elif i<80 and i>=60:\n",
        "    sixty=sixty+1\n",
        "  elif i<60 and i>=40:\n",
        "    fourty=fourty+1\n",
        "  else:\n",
        "    drop=drop+1\n",
        "print('100점대:',hund,'명')\n",
        "print('90점대:',nine,'명')\n",
        "print('80점대:',eighty,'명')\n",
        "print('60점대:',sixty,'명')\n",
        "print('40점대:',fourty,'명')\n",
        "print('낙제:',drop,'명')\n",
        "\n",
        "\n"
      ],
      "execution_count": null,
      "outputs": [
        {
          "output_type": "stream",
          "text": [
            "학생의 점수를 입력하시오:83\n",
            "학생의 점수를 입력하시오:23\n",
            "학생의 점수를 입력하시오:63\n",
            "학생의 점수를 입력하시오:0\n",
            "100점대: 0 명\n",
            "90점대: 0 명\n",
            "80점대: 1 명\n",
            "60점대 1 명\n",
            "40점대 0 명\n",
            "낙제 1 명\n",
            "[83, 23, 63]\n"
          ],
          "name": "stdout"
        }
      ]
    },
    {
      "cell_type": "markdown",
      "metadata": {
        "id": "LdNDnhSsTWMF"
      },
      "source": [
        "# 문제 8.\n",
        "## 소수(prime number)란 1보다 큰 자연수 중 1과 자기 자신 두 개만을 약수로 갖는 수를 말한다. \n",
        "- 자연수 M과 N을 입력받아 M부터 N까지 소수의 개수를 구하여 출력하는 프로그램을 작성하시오.\n",
        "- M이상 N이하의 자연수 중 소수가 몇 개인지 구하여 출력한다.\n",
        "- 입력 예: 10 100\n",
        "- 출력 예: 21"
      ]
    },
    {
      "cell_type": "code",
      "metadata": {
        "id": "zZHvnbhlTWMF",
        "colab": {
          "base_uri": "https://localhost:8080/"
        },
        "outputId": "5abd2e81-29eb-48ab-bb41-2015d62ef173"
      },
      "source": [
        "M = int(input('숫자를 입력하시오:'))\n",
        "N = int(input('숫자를 입력하시오:'))\n",
        "prime = 0\n",
        "Prime = 0\n",
        "r=M\n",
        "b = []\n",
        "while r>=M and r<=N:\n",
        "  for i in range(2,r):\n",
        "    b.append(i)\n",
        "  for e in range(0,len(b)):\n",
        "    if r%b[e]!=0:\n",
        "      Prime = Prime + 1\n",
        "  if Prime==len(b):\n",
        "    prime = prime + 1\n",
        "  r = r + 1\n",
        "  Prime = 0\n",
        "print(prime)\n",
        "  \n",
        "\n",
        "\n"
      ],
      "execution_count": null,
      "outputs": [
        {
          "output_type": "stream",
          "text": [
            "숫자를 입력하시오:12\n",
            "숫자를 입력하시오:100\n",
            "20\n"
          ],
          "name": "stdout"
        }
      ]
    },
    {
      "cell_type": "code",
      "metadata": {
        "id": "1NsP9BjsTWMF"
      },
      "source": [
        ""
      ],
      "execution_count": null,
      "outputs": []
    },
    {
      "cell_type": "markdown",
      "metadata": {
        "id": "qgQPG3LBTWMF"
      },
      "source": [
        "# 보너스\n",
        "## 자연수 M과 N이 주어질 때 M이상 N이하의 자연수 중 소수인 것을 모두 골라 이들 소수의 합과 최소값을 찾는 프로그램을 작성하시오.\n",
        "\n",
        "- 예를 들어 M=60, N=100이 경우 60이상 100이하의 자연수 중 소수는 61, 67, 71, 73, 79, 83, 89, 97 총 8개가 있으므로, \n",
        "- 이들 소수의 합은 620이고, 최소값은 61이 된다."
      ]
    },
    {
      "cell_type": "code",
      "metadata": {
        "id": "LPxwsAuKTWMG",
        "colab": {
          "base_uri": "https://localhost:8080/"
        },
        "outputId": "67d2509f-921c-4926-8ece-7749a3e8be91"
      },
      "source": [
        "M = int(input('숫자를 입력하시오:'))\n",
        "N = int(input('숫자를 입력하시오'))\n",
        "lists = []\n",
        "c = 0\n",
        "lists2=[]\n",
        "for num in range(M,N+1):\n",
        "  for num2 in range(2,M):\n",
        "    lists.append(num2)\n",
        "  for num3 in range(0,len(lists)):\n",
        "    if M%lists[num3]==0:\n",
        "      break\n",
        "    else:\n",
        "      if lists[num3]==M-1:\n",
        "        if M%lists[num3]!=0:\n",
        "          lists2.append(M)\n",
        "          c = c + M\n",
        "      else:\n",
        "        continue\n",
        "  M = M + 1\n",
        "print(c)\n",
        "minivalue=lists2[0]\n",
        "for i in lists2:\n",
        "  if i<minivalue:\n",
        "    minivalue=i\n",
        "print(minivalue)\n",
        "print(lists2)\n",
        "\n",
        "      \n",
        "\n",
        "    "
      ],
      "execution_count": null,
      "outputs": [
        {
          "output_type": "stream",
          "text": [
            "숫자를 입력하시오:60\n",
            "숫자를 입력하시오100\n",
            "620\n",
            "61\n",
            "[61, 67, 71, 73, 79, 83, 89, 97]\n"
          ],
          "name": "stdout"
        }
      ]
    },
    {
      "cell_type": "code",
      "metadata": {
        "id": "W9IqZ8uWTWMG"
      },
      "source": [
        ""
      ],
      "execution_count": null,
      "outputs": []
    },
    {
      "cell_type": "markdown",
      "metadata": {
        "id": "dozRhDI9TWMG"
      },
      "source": [
        "# 문제 9.\n",
        "## 아래의 결과를 보이도록 프로그램을 작성하시오."
      ]
    },
    {
      "cell_type": "code",
      "metadata": {
        "id": "nzkC-nytTWMG"
      },
      "source": [
        "   *\n",
        "  ***\n",
        " *****\n",
        "*******"
      ],
      "execution_count": null,
      "outputs": []
    },
    {
      "cell_type": "code",
      "metadata": {
        "id": "8BYEu6T-TWMG",
        "colab": {
          "base_uri": "https://localhost:8080/"
        },
        "outputId": "5a74f285-c7c8-48f5-9037-8ca4ae1a6db7"
      },
      "source": [
        "baseLine=int(input('input the length of base line'))\n",
        "e = baseLine//2\n",
        "for i in range(1,baseLine+1,2):\n",
        "  print(' '*e,'*'*i)\n",
        "  e = e - 1\n"
      ],
      "execution_count": null,
      "outputs": [
        {
          "output_type": "stream",
          "text": [
            "input the length of base line9\n",
            "     *\n",
            "    ***\n",
            "   *****\n",
            "  *******\n",
            " *********\n"
          ],
          "name": "stdout"
        }
      ]
    },
    {
      "cell_type": "code",
      "metadata": {
        "id": "oEfm-Fy-TWMG"
      },
      "source": [
        ""
      ],
      "execution_count": null,
      "outputs": []
    },
    {
      "cell_type": "markdown",
      "metadata": {
        "id": "h0gk-KWqTWMG"
      },
      "source": [
        "# 문제 10.\n",
        "## 아래의 피라미드 모형을 출력하시오.\n",
        "- 출력 결과에서 #은 공백(space)로 처리해도 됨."
      ]
    },
    {
      "cell_type": "code",
      "metadata": {
        "id": "Q10Ot5DgTWMG"
      },
      "source": [
        "###*###\n",
        "##***##\n",
        "#*****#\n",
        "*******\n",
        "#*****#\n",
        "##***##\n",
        "###*###"
      ],
      "execution_count": null,
      "outputs": []
    },
    {
      "cell_type": "code",
      "metadata": {
        "id": "3EDAtsriTWMH"
      },
      "source": [
        " *\n",
        "***\n",
        " *"
      ],
      "execution_count": null,
      "outputs": []
    },
    {
      "cell_type": "code",
      "metadata": {
        "id": "d0vCqeRZTWMH",
        "colab": {
          "base_uri": "https://localhost:8080/"
        },
        "outputId": "00b882ec-146a-4fce-a0d9-6d090099df71"
      },
      "source": [
        "middleLine = int(input('input the length of middleline:'))\n",
        "e = middleLine//2\n",
        "u = 1\n",
        "for i in range(1,middleLine+1,2):\n",
        "  print(' '*e,'*'*i)\n",
        "  e = e - 1\n",
        "for i2 in range(middleLine-2,0,-2):\n",
        "  print(' '*u,'*'*i2)\n",
        "  u = u + 1\n",
        "\n"
      ],
      "execution_count": 7,
      "outputs": [
        {
          "output_type": "stream",
          "text": [
            "input the length of middleline:7\n",
            "    *\n",
            "   ***\n",
            "  *****\n",
            " *******\n",
            "  *****\n",
            "   ***\n",
            "    *\n"
          ],
          "name": "stdout"
        }
      ]
    },
    {
      "cell_type": "markdown",
      "metadata": {
        "id": "ppf3R7b0TWMH"
      },
      "source": [
        "# 보너스2\n",
        "## 삼각형의 높이 N을 입력받아서 아래와 같이 문자 'A'부터 차례대로 왼쪽 대각선으로 채워서 삼각형 모양을 출력하는 프로그램을 작성하시오.\n",
        "- 입력 예 : 5"
      ]
    },
    {
      "cell_type": "code",
      "metadata": {
        "id": "4fRMsq9nTWMH"
      },
      "source": [
        "        A\n",
        "      B F\n",
        "    C G J\n",
        "  D H K M\n",
        "E I L N O"
      ],
      "execution_count": null,
      "outputs": []
    },
    {
      "cell_type": "code",
      "metadata": {
        "id": "803j1nowTWMH",
        "colab": {
          "base_uri": "https://localhost:8080/"
        },
        "outputId": "9e5137d9-c9de-43e8-9850-bccfc70f3c67"
      },
      "source": [
        "height = int(input('input the height:'))\n",
        "l = 'ABCDEFGHIJKLMNOPQRSTUVWXYZ'\n",
        "lists = list(l)\n",
        "o = (height-1)*2\n",
        "a = height-1\n",
        "pr = 0\n",
        "r = 0\n",
        "q = 0\n",
        "u = 2\n",
        "for b in range(1,height+1):\n",
        "  q+=1\n",
        "for i in range(0,q):\n",
        "  if i==0:\n",
        "    print(' '*o,lists[i])\n",
        "  else:\n",
        "    print(' '*(o-u),lists[i],end=' ')\n",
        "    for e in range(a,0,-1):\n",
        "      r+=e\n",
        "      print(lists[i+r],end=' ')\n",
        "      pr+=1\n",
        "      if pr==i:\n",
        "        print()\n",
        "        break\n",
        "    pr = 0\n",
        "    r=0\n",
        "    u+=2\n",
        "     \n",
        "\n",
        "  \n"
      ],
      "execution_count": 1,
      "outputs": [
        {
          "output_type": "stream",
          "text": [
            "input the height:5\n",
            "         A\n",
            "       B F \n",
            "     C G J \n",
            "   D H K M \n",
            " E I L N O \n"
          ],
          "name": "stdout"
        }
      ]
    },
    {
      "cell_type": "code",
      "metadata": {
        "id": "q7PLmHVWTWMH"
      },
      "source": [
        "#pr=0위치\n",
        "#u+=2위치"
      ],
      "execution_count": null,
      "outputs": []
    },
    {
      "cell_type": "markdown",
      "metadata": {
        "id": "i8sOzGgcTWMH"
      },
      "source": [
        "# 문제 11.\n",
        "## 2진수를 입력받아 10진수로 변환하여 출력하는 프로그램을 작성하시오.\n",
        "- 입력 예: 10101\n",
        "- 출력 예: 21"
      ]
    },
    {
      "cell_type": "code",
      "metadata": {
        "id": "3j2GnSNdTWMH",
        "colab": {
          "base_uri": "https://localhost:8080/"
        },
        "outputId": "7f4d15d7-7fdb-4970-8516-e56b3bf85390"
      },
      "source": [
        "two = input('이진수를 입력하시오:')\n",
        "num = len(two)-1\n",
        "num2 = 0\n",
        "two3 = 0\n",
        "while num>=0 and num2<len(two) :\n",
        "  two2 = 2 ** num * int(two[num2])\n",
        "  two3 = two2 + two3\n",
        "  num = num-1\n",
        "  num2 = num2+1\n",
        "print(two3)"
      ],
      "execution_count": null,
      "outputs": [
        {
          "output_type": "stream",
          "text": [
            "이진수를 입력하시오:10101\n",
            "21\n"
          ],
          "name": "stdout"
        }
      ]
    },
    {
      "cell_type": "code",
      "metadata": {
        "id": "yyYsAXTOTWMI"
      },
      "source": [
        ""
      ],
      "execution_count": null,
      "outputs": []
    },
    {
      "cell_type": "markdown",
      "metadata": {
        "id": "NUq-gpBoTWMI"
      },
      "source": [
        "# 문제 12.\n",
        "\n",
        "## 복호화 키와 암호 문자를 입력으로 받아 원문을 구하는 프로그램을 구현하시오. 복호화 키는 26개의 소문자로 주어지며, a,b,c,d... 를 순서대로 복호화 키 문자로 대치한다는 것을 뜻한다.\n",
        "\n",
        " \n",
        "\n",
        "- 예를 들어, 복호화 키가 \"eydbkmiqugjxlvtzpnwohracsf\" 와 같이 주어진다고 하자, \n",
        "\n",
        "- 그러면 이는 다음과 같다 - a 문자는 e, b 문자는 y, ..., z 문자는 f로 바꿔줌.\n",
        "\n",
        "- 암호화 된 문자는 대소문자 혹은 공백이 올수 있고 대소문자는 대문자로 소문자는 소문자로 치환 규칙에 맞게 출력하고 , \n",
        "\n",
        "- 공백문자는 그대로 출력한다.\n",
        "\n",
        "- 입력 예: \n",
        "- eydbkmiqugjxlvtzpnwohracsf\n",
        "- Kifq oua zarxa suar bti yaagrj fa xtfgrj\n",
        "- 출력 예:\n",
        "- Jump the fence when you seeing me coming"
      ]
    },
    {
      "cell_type": "code",
      "metadata": {
        "id": "ALn65YeQTWMI"
      },
      "source": [
        ""
      ],
      "execution_count": null,
      "outputs": []
    },
    {
      "cell_type": "code",
      "metadata": {
        "id": "CS0tblcpTWMJ",
        "colab": {
          "base_uri": "https://localhost:8080/"
        },
        "outputId": "c5a5b3f4-0bb3-44b5-d0a1-7216f022da6d"
      },
      "source": [
        "dycrpte = input('복호화 키를 입력하시오:')\n",
        "lists = list(dycrpte)\n",
        "encode = input('암호문자를 입력하시오')\n",
        "dycrpte2 = 'abcdefghijklmnopqrstuvwxyzABCDEFGHIJKLMNOPQRSTUVWXYZ'\n",
        "lists2 = list(dycrpte2)\n",
        "str1=''\n",
        "for i in range(0,len(encode)):\n",
        "  if encode[i] in lists:\n",
        "    e = lists.index(encode[i])\n",
        "    str1+=lists2[e]\n",
        "  elif encode[i]==' ':\n",
        "    str1+=' '\n",
        "print(str1)\n",
        "\n"
      ],
      "execution_count": null,
      "outputs": [
        {
          "output_type": "stream",
          "text": [
            "복호화 키를 입력하시오:bcdefghijklmnopqrstuvwxyzaBCDEFGHIJKLMNOPQRSTUVWXYZ\n",
            "암호문자를 입력하시오Kvnq Uif Gfodf\n",
            "Jump The Fence\n"
          ],
          "name": "stdout"
        }
      ]
    },
    {
      "cell_type": "markdown",
      "metadata": {
        "id": "Hie3wjYzTWMK"
      },
      "source": [
        "# diamond code"
      ]
    },
    {
      "cell_type": "code",
      "metadata": {
        "id": "lRoKPxtdTWMK",
        "outputId": "0e5e6ef7-ef1a-4d02-ced8-9bafd25110a6"
      },
      "source": [
        ""
      ],
      "execution_count": null,
      "outputs": [
        {
          "output_type": "stream",
          "text": [
            "Enter a floor of diamond(odd)[quit: -1]: 3\n",
            "  *  \n",
            " *** \n",
            "  *  \n",
            "Enter a floor of diamond(odd)[quit: -1]: 1\n",
            "*\n",
            "Enter a floor of diamond(odd)[quit: -1]: 5\n",
            "    *    \n",
            "   ***   \n",
            "  *****  \n",
            "   ***   \n",
            "    *    \n",
            "Enter a floor of diamond(odd)[quit: -1]: 7\n",
            "      *      \n",
            "     ***     \n",
            "    *****    \n",
            "   *******   \n",
            "    *****    \n",
            "     ***     \n",
            "      *      \n",
            "Enter a floor of diamond(odd)[quit: -1]: -1\n"
          ],
          "name": "stdout"
        }
      ]
    },
    {
      "cell_type": "code",
      "metadata": {
        "id": "xhiH0rszTWMK",
        "colab": {
          "base_uri": "https://localhost:8080/"
        },
        "outputId": "78fa3c14-976e-4e2d-a711-a0c62b5319ba"
      },
      "source": [
        "mid = int(input('Enter a floor of diamond(odd):'))\n",
        "e = mid//2\n",
        "b = 1\n",
        "if mid == 1:\n",
        "  print('*')\n",
        "else :\n",
        "  for i in range(1,mid+1,2):\n",
        "    print(' '*e, '*'*i,end='')\n",
        "    print()\n",
        "    e = e-1\n",
        "  for a in range(mid-2,0,-2):\n",
        "    print(' '*b,'*'*a,end='')\n",
        "    print()\n",
        "    b = b+1\n"
      ],
      "execution_count": 22,
      "outputs": [
        {
          "output_type": "stream",
          "text": [
            "Enter a floor of diamond(odd):7\n",
            "    *\n",
            "   ***\n",
            "  *****\n",
            " *******\n",
            "  *****\n",
            "   ***\n",
            "    *\n"
          ],
          "name": "stdout"
        }
      ]
    },
    {
      "cell_type": "code",
      "metadata": {
        "id": "ZNaXh146TWMK",
        "colab": {
          "base_uri": "https://localhost:8080/"
        },
        "outputId": "035312ff-9caf-402e-c8ab-2d837ff8c69e"
      },
      "source": [
        "b = 1\n",
        "print(' '*b,'h')"
      ],
      "execution_count": 17,
      "outputs": [
        {
          "output_type": "stream",
          "text": [
            "  h\n"
          ],
          "name": "stdout"
        }
      ]
    },
    {
      "cell_type": "code",
      "metadata": {
        "id": "3KbG0CgSTWMK",
        "outputId": "20de8dcc-4548-4b06-b7bb-2786a8a216e1"
      },
      "source": [
        ""
      ],
      "execution_count": null,
      "outputs": [
        {
          "output_type": "stream",
          "text": [
            "mid: 0\n",
            "*\n",
            "==================\n",
            "mid: 1\n",
            " * \n",
            "***\n",
            " * \n",
            "==================\n",
            "mid: 2\n",
            "  *  \n",
            " *** \n",
            "*****\n",
            " *** \n",
            "  *  \n",
            "==================\n",
            "mid: 3\n",
            "   *   \n",
            "  ***  \n",
            " ***** \n",
            "*******\n",
            " ***** \n",
            "  ***  \n",
            "   *   \n",
            "==================\n",
            "mid: 4\n",
            "    *    \n",
            "   ***   \n",
            "  *****  \n",
            " ******* \n",
            "*********\n",
            " ******* \n",
            "  *****  \n",
            "   ***   \n",
            "    *    \n",
            "==================\n"
          ],
          "name": "stdout"
        }
      ]
    },
    {
      "cell_type": "code",
      "metadata": {
        "id": "KEMNHkJVTWML"
      },
      "source": [
        ""
      ],
      "execution_count": null,
      "outputs": []
    },
    {
      "cell_type": "code",
      "metadata": {
        "id": "6TTc4ui7TWML"
      },
      "source": [
        ""
      ],
      "execution_count": null,
      "outputs": []
    },
    {
      "cell_type": "code",
      "metadata": {
        "id": "UwabX15tTWMM"
      },
      "source": [
        ""
      ],
      "execution_count": null,
      "outputs": []
    },
    {
      "cell_type": "code",
      "metadata": {
        "id": "qfSTD7_HTWMM"
      },
      "source": [
        ""
      ],
      "execution_count": null,
      "outputs": []
    }
  ]
}